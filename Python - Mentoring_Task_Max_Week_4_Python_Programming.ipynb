{
 "cells": [
  {
   "cell_type": "markdown",
   "metadata": {
    "id": "oiHKP1fFcQg8"
   },
   "source": [
    "# Week 4 - Python Programming\n",
    "---\n",
    "\n",
    "Mentoring Session - Job Preparation Program - Pacmann AI"
   ]
  },
  {
   "cell_type": "markdown",
   "metadata": {
    "id": "mXjAL-TyG8O_"
   },
   "source": [
    "# Task 1. Find a Double Promo User\n",
    "\n",
    "Category: Medium\n",
    "\n",
    "---"
   ]
  },
  {
   "cell_type": "markdown",
   "metadata": {
    "id": "ABI5GvUJG8Pc"
   },
   "source": [
    "**Task Descriptions**\n",
    "- Given lists of `user_id`, `promo_A_status`, `promo_B_status`\n",
    "- Your task is to calculate how many user get a double promo (promo A and B)"
   ]
  },
  {
   "cell_type": "markdown",
   "metadata": {
    "id": "XLHq0gYTG8Pd"
   },
   "source": [
    "Example\n",
    "- `user_id = [3, 4, 5]`\n",
    "- `promo_A_status = [0, 1, 1]`\n",
    "  - This means, `user_id` 4 and 5 get promo A\n",
    "\n",
    "- `promo_B_status = [1, 1, 0]`\n",
    "  - This means, `user_id` 3 and 4 get promo B\n",
    "\n",
    "- So, the `user_id` whose get double promo are 1 user, that is user 4"
   ]
  },
  {
   "cell_type": "markdown",
   "metadata": {
    "id": "vEo-2aqdG8Pd"
   },
   "source": [
    "---\n",
    "**Detail input & output**\n",
    "\n",
    "There are three input:\n",
    "- `user_id`, a list\n",
    "- `promo_A_status`, a list\n",
    "- `promo_B_status`, a list\n",
    "\n",
    "There is a single output:\n",
    "- `int`"
   ]
  },
  {
   "cell_type": "markdown",
   "metadata": {
    "id": "uEvK7MaKG8Pe"
   },
   "source": [
    "---\n",
    "**Input 1**\n",
    "\n",
    "```python\n",
    "user_id = [1, 2, 3, 4, 5]\n",
    "promo_A_status = [1, 0, 1, 1, 0]\n",
    "promo_B_status = [0, 0, 1, 1, 1]\n",
    "```"
   ]
  },
  {
   "cell_type": "markdown",
   "metadata": {
    "id": "PXREvNm9G8Pf"
   },
   "source": [
    "**Output - 1**\n",
    "```\n",
    "Number of user with double promo: 2\n",
    "```"
   ]
  },
  {
   "cell_type": "markdown",
   "metadata": {
    "id": "PKYSd19CG8Pf"
   },
   "source": [
    "---\n",
    "**Input 2**\n",
    "\n",
    "```python\n",
    "user_id = [11, 21, 34, 49, 51]\n",
    "promo_A_status = [1, 1, 0, 1, 0]\n",
    "promo_B_status = [0, 0, 0, 0, 1]\n",
    "```"
   ]
  },
  {
   "cell_type": "markdown",
   "metadata": {
    "id": "e-p8i00SG8Pg"
   },
   "source": [
    "**Output - 2**\n",
    "```\n",
    "Number of user with double promo: 0\n",
    "```"
   ]
  },
  {
   "cell_type": "markdown",
   "metadata": {
    "id": "gBGxpAtzG8Pg"
   },
   "source": [
    "**Questions 1**\n",
    "\n",
    "---\n",
    "Provide the code for solving the problem"
   ]
  },
  {
   "cell_type": "code",
   "execution_count": 19,
   "metadata": {
    "colab": {
     "base_uri": "https://localhost:8080/"
    },
    "id": "YBvgO1y4G8Ph",
    "outputId": "f55d9667-eabf-494d-e3cc-ec48afeb1899"
   },
   "outputs": [
    {
     "name": "stdout",
     "output_type": "stream",
     "text": [
      "Output 1 \n",
      "Number of user with double promo: 2\n",
      "\n",
      "Output 2 \n",
      "Number of user with double promo: 0\n"
     ]
    }
   ],
   "source": [
    "# Write your code here\n",
    "# Note: You can write your input manually\n",
    "def find_double_promo_users(user_id, promo_A_status, promo_B_status):\n",
    "    # Menghitung jumlah user yang mendapatkan double promo\n",
    "    double_promo_count = sum(a == 1 and b == 1 for a, b in zip(promo_A_status, promo_B_status))\n",
    "    \n",
    "    return double_promo_count\n",
    "\n",
    "# Output 1\n",
    "user_id_1 = [1, 2, 3, 4, 5]\n",
    "promo_A_status_1 = [1, 0, 1, 1, 0]\n",
    "promo_B_status_1 = [0, 0, 1, 1, 1]\n",
    "\n",
    "hasil_1 = find_double_promo_users(user_id_1, promo_A_status_1, promo_B_status_1)\n",
    "print(\"Output 1 \\nNumber of user with double promo:\", hasil_1)\n",
    "\n",
    "# Output 2\n",
    "user_id_2 = [11, 21, 34, 49, 51]\n",
    "promo_A_status_2 = [1, 1, 0, 1, 0]\n",
    "promo_B_status_2 = [0, 0, 0, 0, 1]\n",
    "\n",
    "hasil_2 = find_double_promo_users(user_id_2, promo_A_status_2, promo_B_status_2)\n",
    "print(\"\\nOutput 2 \\nNumber of user with double promo:\", hasil_2)"
   ]
  },
  {
   "cell_type": "markdown",
   "metadata": {
    "id": "HBpPiNIxd7os"
   },
   "source": [
    "# Task 2. Find a Double Promo User - Continued\n",
    "\n",
    "Category: Medium\n",
    "\n",
    "---"
   ]
  },
  {
   "cell_type": "markdown",
   "metadata": {
    "id": "2t4h6o_Kd7ou"
   },
   "source": [
    "**Task Descriptions**\n",
    "- Given lists of `user_id`, `promo_A_status`, `promo_B_status`\n",
    "- Your task is to find which `user_id` get double promo (promo A and B)"
   ]
  },
  {
   "cell_type": "markdown",
   "metadata": {
    "id": "Un7YVLQPFCi5"
   },
   "source": [
    "Example\n",
    "- `user_id = [3, 4, 5]`\n",
    "- `promo_A_status = [0, 1, 1]`\n",
    "  - This means, `user_id` 4 and 5 get promo A\n",
    "\n",
    "- `promo_B_status = [1, 1, 0]`\n",
    "  - This means, `user_id` 3 and 4 get promo B\n",
    "\n",
    "- So, the `user_id` whose get double promo are `[4]`"
   ]
  },
  {
   "cell_type": "markdown",
   "metadata": {
    "id": "j860MLyGECzr"
   },
   "source": [
    "---\n",
    "**Detail input & output**\n",
    "\n",
    "There are three input:\n",
    "- `user_id`, a list\n",
    "- `promo_A_status`, a list\n",
    "- `promo_B_status`, a list\n",
    "\n",
    "There is a single output:\n",
    "- a list of `user_id` with double promo"
   ]
  },
  {
   "cell_type": "markdown",
   "metadata": {
    "id": "SXFeDQkLd7ow"
   },
   "source": [
    "---\n",
    "**Input 1**\n",
    "\n",
    "```python\n",
    "user_id = [1, 2, 3, 4, 5]\n",
    "promo_A_status = [1, 0, 1, 1, 0]\n",
    "promo_B_status = [0, 0, 1, 1, 1]\n",
    "```"
   ]
  },
  {
   "cell_type": "markdown",
   "metadata": {
    "id": "sHSt4LBEd7ox"
   },
   "source": [
    "**Output - 1**\n",
    "```\n",
    "user_id with double promo: [3, 4]\n",
    "```"
   ]
  },
  {
   "cell_type": "markdown",
   "metadata": {
    "id": "xu4cr_vmEwC8"
   },
   "source": [
    "---\n",
    "**Input 2**\n",
    "\n",
    "```python\n",
    "user_id = [11, 21, 34, 49, 51]\n",
    "promo_A_status = [1, 1, 0, 1, 0]\n",
    "promo_B_status = [0, 0, 0, 0, 1]\n",
    "```"
   ]
  },
  {
   "cell_type": "markdown",
   "metadata": {
    "id": "t3S7YYkjEwDh"
   },
   "source": [
    "**Output - 2**\n",
    "```\n",
    "user_id with double promo: []\n",
    "```"
   ]
  },
  {
   "cell_type": "markdown",
   "metadata": {
    "id": "MZQqVz_wFlVR"
   },
   "source": [
    "**Questions 1**\n",
    "\n",
    "---\n",
    "Provide the code for solving the problem"
   ]
  },
  {
   "cell_type": "code",
   "execution_count": 18,
   "metadata": {
    "id": "WKfZRoC5FlVb"
   },
   "outputs": [
    {
     "name": "stdout",
     "output_type": "stream",
     "text": [
      "Output 1 \n",
      "user_id with double promo: [3, 4]\n",
      "\n",
      "Output 2 \n",
      "user_id with double promo: []\n"
     ]
    }
   ],
   "source": [
    "# Write your code here\n",
    "# Note: You can write your input manually\n",
    "def find_double_promo_users(user_id, promo_A_status, promo_B_status):\n",
    "    # Menemukan user_id yang mendapatkan double promo\n",
    "    double_promo_users = [uid for uid, a, b in zip(user_id, promo_A_status, promo_B_status) if a == 1 and b == 1]\n",
    "    \n",
    "    return double_promo_users\n",
    "\n",
    "# Output 1\n",
    "user_id_1 = [1, 2, 3, 4, 5]\n",
    "promo_A_status_1 = [1, 0, 1, 1, 0]\n",
    "promo_B_status_1 = [0, 0, 1, 1, 1]\n",
    "\n",
    "hasil_1 = find_double_promo_users(user_id_1, promo_A_status_1, promo_B_status_1)\n",
    "print(\"Output 1 \\nuser_id with double promo:\", hasil_1)\n",
    "\n",
    "# Output 2\n",
    "user_id_2 = [11, 21, 34, 49, 51]\n",
    "promo_A_status_2 = [1, 1, 0, 1, 0]\n",
    "promo_B_status_2 = [0, 0, 0, 0, 1]\n",
    "\n",
    "hasil_2 = find_double_promo_users(user_id_2, promo_A_status_2, promo_B_status_2)\n",
    "print(\"\\nOutput 2 \\nuser_id with double promo:\", hasil_2)"
   ]
  },
  {
   "cell_type": "markdown",
   "metadata": {
    "id": "oMGlSKoCfuy-"
   },
   "source": [
    "# Task 3. Calculate number of gender in a data\n",
    "\n",
    "Category: Medium\n",
    "\n",
    "---"
   ]
  },
  {
   "cell_type": "markdown",
   "metadata": {
    "id": "zA6xNheyfuzA"
   },
   "source": [
    "**Task Descriptions**\n",
    "- Given a list of gender, your task is to extract the number people in each gender and return it as a dictionary.\n",
    "\n",
    "Example\n",
    "- `a = ['male', 'female', 'male', 'female', 'female']`\n",
    "- So there are 2 males & 3 females\n",
    "- Thus our output would be `{'male': 2, 'female': 3}`"
   ]
  },
  {
   "cell_type": "markdown",
   "metadata": {
    "id": "_49cXcNALgQu"
   },
   "source": [
    "---\n",
    "**Detail input & output**\n",
    "\n",
    "- input: `a`, list of gender\n",
    "- output: `dict`"
   ]
  },
  {
   "cell_type": "markdown",
   "metadata": {
    "id": "mAxaxYujfuzD"
   },
   "source": [
    "---\n",
    "**Input - 1**\n",
    "\n",
    "```python\n",
    "a = ['male', 'female', 'female', 'male']\n",
    "```"
   ]
  },
  {
   "cell_type": "markdown",
   "metadata": {
    "id": "S89bi74tfuzE"
   },
   "source": [
    "**Output**\n",
    "```python\n",
    "{'male': 2, 'female': 2}\n",
    "```"
   ]
  },
  {
   "cell_type": "markdown",
   "metadata": {
    "id": "jjlTB8WCL4-R"
   },
   "source": [
    "---\n",
    "**Input - 2**\n",
    "\n",
    "```python\n",
    "a = ['female', 'female', 'female', 'female']\n",
    "```"
   ]
  },
  {
   "cell_type": "markdown",
   "metadata": {
    "id": "Ge1lVkoML4-_"
   },
   "source": [
    "**Output**\n",
    "```python\n",
    "{'male': 0, 'female': 4}\n",
    "```"
   ]
  },
  {
   "cell_type": "markdown",
   "metadata": {
    "id": "sQIvVCy3L_6P"
   },
   "source": [
    "**Questions 1**\n",
    "\n",
    "---\n",
    "Provide the code for solving the problem"
   ]
  },
  {
   "cell_type": "code",
   "execution_count": 17,
   "metadata": {
    "id": "w1W-tjIML_6R"
   },
   "outputs": [
    {
     "name": "stdout",
     "output_type": "stream",
     "text": [
      "Output 1 \n",
      "{'male': 2, 'female': 2}\n",
      "\n",
      "Output 2 \n",
      "{'male': 0, 'female': 4}\n"
     ]
    }
   ],
   "source": [
    "# Write your code here\n",
    "# Note: You can write your input manually\n",
    "def count_gender(data):\n",
    "    # Inisialisasi dictionary untuk menyimpan jumlah masing-masing jenis kelamin\n",
    "    gender_count = {'male': 0, 'female': 0}\n",
    "\n",
    "    # Menghitung jumlah masing-masing jenis kelamin\n",
    "    for gender in data:\n",
    "        if gender.lower() == 'male':\n",
    "            gender_count['male'] += 1\n",
    "        elif gender.lower() == 'female':\n",
    "            gender_count['female'] += 1\n",
    "\n",
    "    return gender_count\n",
    "\n",
    "# Output 1\n",
    "data_1 = ['male', 'female', 'female', 'male']\n",
    "hasil_1 = count_gender(data_1)\n",
    "print(f'Output 1 \\n{hasil_1}')\n",
    "\n",
    "\n",
    "# Output 2\n",
    "data_2 = ['female', 'female', 'female', 'female']\n",
    "hasil_2 = count_gender(data_2)\n",
    "print(f'\\nOutput 2 \\n{hasil_2}')"
   ]
  },
  {
   "cell_type": "markdown",
   "metadata": {
    "id": "xsUAqsjvIBVH"
   },
   "source": [
    "# Task 4. Fibonacci Prime\n",
    "\n",
    "Category: Medium\n",
    "\n",
    "---"
   ]
  },
  {
   "cell_type": "markdown",
   "metadata": {
    "id": "umey3GqiIBVK"
   },
   "source": [
    "## Task Descriptions\n",
    "---\n",
    "- Create a function to find the first `n` Fibonacci Prime Number."
   ]
  },
  {
   "cell_type": "markdown",
   "metadata": {
    "id": "0_ax_ZPM398v"
   },
   "source": [
    "**Fibonacci number**\n",
    "- Fibonacci number is a number that follows this sequence\n",
    "\n",
    "$$\n",
    "n_{i} = n_{i-1} + n_{i-2}\n",
    "$$"
   ]
  },
  {
   "cell_type": "markdown",
   "metadata": {
    "id": "kwWpm7zp4Cx4"
   },
   "source": [
    "- with $n_{1}=1$ and $n_{2}=1$\n",
    "- So, the first 10 Fibonacci number is\n",
    "\n",
    "$$\n",
    "1, 1, 2, 3, 5, 8, 13, 21, 34, 55\n",
    "$$"
   ]
  },
  {
   "cell_type": "markdown",
   "metadata": {
    "id": "z-x0d-cx4SbE"
   },
   "source": [
    "**Prime number**\n",
    "- A prime number is a number which only have 2 divisors, that is $1$ and the number itself.\n",
    "- Example\n",
    "  - $2$ is a prime number. Divisors of $2$ are $1$ and $2$\n",
    "  - $10$ is **not** a prime number. Divisors of $10$ are $1$, $2$, $5$, and $10$.\n",
    "  - $13$ is a prime number. Divisors of $13$ are $1$ and $13$"
   ]
  },
  {
   "cell_type": "markdown",
   "metadata": {
    "id": "_EeYAzGD4sCG"
   },
   "source": [
    "## Detail function\n",
    "---"
   ]
  },
  {
   "cell_type": "markdown",
   "metadata": {
    "id": "jHWrNQO_4zos"
   },
   "source": [
    "- Create a function named `fibonacci_prime` with\n",
    "  - Input `n` (integer)\n",
    "  - Output `numbers` (list), contains the first `n` Fibonacci prime number"
   ]
  },
  {
   "cell_type": "markdown",
   "metadata": {
    "id": "XXX4U4eA5RgM"
   },
   "source": [
    "## Examples\n",
    "---"
   ]
  },
  {
   "cell_type": "markdown",
   "metadata": {
    "id": "X6-yzPcg6m5T"
   },
   "source": [
    "**Input 1**\n",
    "\n",
    "```python\n",
    "# Input\n",
    "res = fibonacci_prime(n = 5)\n",
    "print(res)\n",
    "```\n",
    "\n",
    "**Output 1**\n",
    "```python\n",
    "[2, 3, 5, 13, 89]\n",
    "```"
   ]
  },
  {
   "cell_type": "markdown",
   "metadata": {
    "id": "jYhlUltJ6-7P"
   },
   "source": [
    "**Input 2**\n",
    "\n",
    "```python\n",
    "# Input\n",
    "res = fibonacci_prime(n = 10)\n",
    "print(res)\n",
    "```\n",
    "\n",
    "**Output 2**\n",
    "```python\n",
    "[2, 3, 5, 13, 89, 233, 1597, 28657, 514229, 433494437]\n",
    "```"
   ]
  },
  {
   "cell_type": "markdown",
   "metadata": {
    "id": "5bdXSNiOIBVW"
   },
   "source": [
    "## Answer\n",
    "\n",
    "---\n",
    "- Provide the code for solving the problem\n",
    "- **Make sure your function follows the `Detail Function`**"
   ]
  },
  {
   "cell_type": "code",
   "execution_count": 20,
   "metadata": {
    "id": "ef5DHr8rIBVX"
   },
   "outputs": [
    {
     "name": "stdout",
     "output_type": "stream",
     "text": [
      "[2, 3, 5, 13, 89]\n",
      "[2, 3, 5, 13, 89, 233, 1597, 28657, 514229, 433494437]\n"
     ]
    }
   ],
   "source": [
    "# Write your code here\n",
    "# Note: You can write your input manually\n",
    "def is_prime(num):\n",
    "    # Fungsi untuk mengecek apakah suatu bilangan prima atau bukan\n",
    "    if num < 2:\n",
    "        return False\n",
    "    for i in range(2, int(num**0.5) + 1):\n",
    "        if num % i == 0:\n",
    "            return False\n",
    "    return True\n",
    "\n",
    "def fibonacci_prime(n):\n",
    "    # Fungsi untuk mencari n Fibonacci Prime pertama\n",
    "    primes = []\n",
    "    i = 1\n",
    "\n",
    "    while len(primes) < n:\n",
    "        # Menghitung bilangan Fibonacci\n",
    "        fib = i\n",
    "        a, b = 1, 1\n",
    "        for _ in range(fib - 2):\n",
    "            a, b = b, a + b\n",
    "\n",
    "        # Memeriksa apakah bilangan Fibonacci tersebut prima\n",
    "        if is_prime(b):\n",
    "            primes.append(b)\n",
    "\n",
    "        i += 1\n",
    "\n",
    "    return primes\n",
    "\n",
    "# Contoh penggunaan\n",
    "hasil_1 = fibonacci_prime(n=5)\n",
    "print(hasil_1)\n",
    "\n",
    "hasil_2 = fibonacci_prime(n=10)\n",
    "print(hasil_2)"
   ]
  },
  {
   "cell_type": "markdown",
   "metadata": {
    "id": "1Lvmi7SKAR2A"
   },
   "source": [
    "# Task 5. Accuracy Metrics in Classifications\n",
    "\n",
    "Category: Medium\n",
    "\n",
    "---"
   ]
  },
  {
   "cell_type": "markdown",
   "metadata": {
    "id": "KOrJ-tmbAR2X"
   },
   "source": [
    "## Task Descriptions\n",
    "---\n",
    "- Create a **lambda** function to calculate the accuracy of given prediction"
   ]
  },
  {
   "cell_type": "markdown",
   "metadata": {
    "id": "5oeDx6NCAR2X"
   },
   "source": [
    "**Accuracy**\n",
    "- You can use accuracy metrics to measure classification model performance.\n",
    "- Given a below data\n",
    "\n",
    "<center>\n",
    "\n",
    "|Real Value|Predicted Value|Status|\n",
    "|:--:|:--:|:--:|\n",
    "|1|0|**False** prediction|\n",
    "|1|1|Correct prediction|\n",
    "|0|0|Correct prediction|\n",
    "|0|1|**False** prediction|\n",
    "|1|1|Correct prediction|\n",
    "|1|1|Correct prediction|\n",
    "|0|0|Correct prediction|\n",
    "|1|1|Correct prediction|\n",
    "\n",
    "</center>\n",
    "\n",
    "- If you predict `0` and the real value is `0`, you predict correctly\n",
    "- If you predict `1` and the real value is `1`, you predict correctly\n",
    "- If you predict `0` while the real value is `1`, you mispredict it.\n",
    "- If you predict `1` while the real value is `0`, you also mispredict it."
   ]
  },
  {
   "cell_type": "markdown",
   "metadata": {
    "id": "NK8py0H9A-JI"
   },
   "source": [
    "- How to calculate accuracy?\n",
    "\n",
    "$$\n",
    "\\text{accuracy}\n",
    "=\n",
    "\\cfrac\n",
    "{\\text{number of correct}}\n",
    "{\\text{number of all data}}\n",
    "$$\n",
    "\n",
    "- So, based on the above table\n",
    "\n",
    "$$\n",
    "\\begin{align*}\n",
    "\\text{accuracy}\n",
    "&=\n",
    "\\cfrac\n",
    "{\\text{number of correct prediction}}\n",
    "{\\text{number of all data}} \\\\\n",
    "&=\n",
    "\\cfrac\n",
    "{6}\n",
    "{8} \\\\\n",
    "\\text{accuracy}\n",
    "&=\n",
    "0.75\n",
    "\\end{align*}\n",
    "$$"
   ]
  },
  {
   "cell_type": "markdown",
   "metadata": {
    "id": "fTGn2luKAR2Y"
   },
   "source": [
    "## Detail function\n",
    "---"
   ]
  },
  {
   "cell_type": "markdown",
   "metadata": {
    "id": "tEaLWiIZAR2Y"
   },
   "source": [
    "- Create a **lambda** function named `calculate_accuracy` with\n",
    "  - Input\n",
    "    - `y_actual` (list), contains the true value\n",
    "    - `y_predicted` (list), contains the predicted value\n",
    "  - Output `accuracy` (float), contains the accuracy metrics"
   ]
  },
  {
   "cell_type": "markdown",
   "metadata": {
    "id": "k7TYvpqPAR2Z"
   },
   "source": [
    "## Examples\n",
    "---"
   ]
  },
  {
   "cell_type": "markdown",
   "metadata": {
    "id": "xBisqn3HAR2Z"
   },
   "source": [
    "**Input 1**\n",
    "\n",
    "```python\n",
    "# Input\n",
    "y_actual = [1, 1, 0, 0, 1, 1, 0, 1]\n",
    "y_predicted = [0, 1, 0, 1, 1, 1, 0, 1]\n",
    "\n",
    "res = calculate_accuracy(y_actual, y_predicted)\n",
    "print(res)\n",
    "```\n",
    "\n",
    "**Output 1**\n",
    "```python\n",
    "0.75\n",
    "```"
   ]
  },
  {
   "cell_type": "markdown",
   "metadata": {
    "id": "mQnbYJYlAR2Z"
   },
   "source": [
    "**Input 2**\n",
    "\n",
    "```python\n",
    "# Input\n",
    "y_actual = [1, 1, -1, -1, 1, 1, -1, 1, -1, -1]\n",
    "y_predicted = [-1, 1, -1, -1, -1, 1, -1, 1, -1, 1]\n",
    "\n",
    "res = calculate_accuracy(y_actual, y_predicted)\n",
    "print(res)\n",
    "```\n",
    "\n",
    "**Output 2**\n",
    "```python\n",
    "0.7\n",
    "```"
   ]
  },
  {
   "cell_type": "markdown",
   "metadata": {
    "id": "2ifQ4p2BAR2Z"
   },
   "source": [
    "## Answer\n",
    "\n",
    "---\n",
    "- Provide the code for solving the problem\n",
    "- **Make sure your function follows the `Detail Function`**"
   ]
  },
  {
   "cell_type": "code",
   "execution_count": 24,
   "metadata": {
    "id": "QqG_g8VWAR2a"
   },
   "outputs": [
    {
     "name": "stdout",
     "output_type": "stream",
     "text": [
      "0.75\n",
      "0.7\n"
     ]
    }
   ],
   "source": [
    "# Write your code here\n",
    "# Note: You can write your input manually\n",
    "calculate_accuracy = lambda y_actual, y_predicted: sum([1 for a, p in zip(y_actual, y_predicted) if a == p]) / len(y_actual)\n",
    "\n",
    "# Contoh penggunaan\n",
    "y_actual_1 = [1, 1, 0, 0, 1, 1, 0, 1]\n",
    "y_predicted_1 = [0, 1, 0, 1, 1, 1, 0, 1]\n",
    "res_1 = calculate_accuracy(y_actual_1, y_predicted_1)\n",
    "print(res_1)\n",
    "\n",
    "y_actual_2 = [1, 1, -1, -1, 1, 1, -1, 1, -1, -1]\n",
    "y_predicted_2 = [-1, 1, -1, -1, -1, 1, -1, 1, -1, 1]\n",
    "res_2 = calculate_accuracy(y_actual_2, y_predicted_2)\n",
    "print(res_2)"
   ]
  },
  {
   "cell_type": "markdown",
   "metadata": {
    "id": "EOdMk1QDDWhA"
   },
   "source": [
    "# Task 6. Get the user churn\n",
    "\n",
    "Category: Medium\n",
    "\n",
    "---"
   ]
  },
  {
   "cell_type": "markdown",
   "metadata": {
    "id": "rw6bdBFrDWhh"
   },
   "source": [
    "## Task Descriptions\n",
    "---\n",
    "- Given a userID and its subscription status, create a function to determine the number of churned (unsubscribed user) on a specific month"
   ]
  },
  {
   "cell_type": "markdown",
   "metadata": {
    "id": "2uzF4trnDWhi"
   },
   "source": [
    "**How this works**\n",
    "- Given a set of userID and subscription status\n",
    "\n",
    "```python\n",
    "# [userId, subscribe until...]\n",
    "user_data_2019 = [\n",
    "    ['123db', 'November'],\n",
    "    ['940cj', 'January'],\n",
    "    ['859do', 'March'],\n",
    "    ['948wp', 'August'],\n",
    "    ['482po', 'August'],\n",
    "    ['742bh', 'November']\n",
    "]\n",
    "```"
   ]
  },
  {
   "cell_type": "markdown",
   "metadata": {
    "id": "qu1XQk-RK5dD"
   },
   "source": [
    "- Say, we want to see the number of user churned (unsubscribed) on **March**\n",
    "  - Only user `940cj` that does not have subscription renewal until **March**\n",
    "  - So, the number of churned user is 1\n",
    "\n",
    "- Say, we want to see the number of user churned (unsubscribed) on **August**,\n",
    "  - Users `['940cj', '859do']` subscribtions end before august.\n",
    "  - Thus, the number of churned user is 2"
   ]
  },
  {
   "cell_type": "markdown",
   "metadata": {
    "id": "0DgsGgpoDWhj"
   },
   "source": [
    "## Detail function\n",
    "---"
   ]
  },
  {
   "cell_type": "markdown",
   "metadata": {
    "id": "wAKdUFoSDWhj"
   },
   "source": [
    "- Create a function named `calculate_churned` with\n",
    "  - Input\n",
    "    - `user_data` (list), contains the userId and subscribe until ...\n",
    "    - `month` (str), in english, contains month to determine the churned user\n",
    "  - Output `churned` (int), contains the number of churned user before `month`"
   ]
  },
  {
   "cell_type": "markdown",
   "metadata": {
    "id": "DjCgn0N5DWhj"
   },
   "source": [
    "## Examples\n",
    "---"
   ]
  },
  {
   "cell_type": "markdown",
   "metadata": {
    "id": "ha0pxFfbkV_Q"
   },
   "source": [
    "user_data = [['123', 'March'], ['124', 'Februari'], ['125', 'January']]"
   ]
  },
  {
   "cell_type": "markdown",
   "metadata": {
    "id": "L8Dx5aboDWhk"
   },
   "source": [
    "**Input 1**\n",
    "\n",
    "```python\n",
    "# Input\n",
    "user_data_2021 = [\n",
    "    ['5105', 'August'],\n",
    "    ['8806', 'August'],\n",
    "    ['1008', 'December'],\n",
    "    ['2655', 'October'],\n",
    "    ['5645', 'January'],\n",
    "    ['3660', 'February'],\n",
    "    ['1655', 'July'],\n",
    "    ['5772', 'January'],\n",
    "    ['4361', 'January'],\n",
    "    ['9155', 'March'],\n",
    "    ['7689', 'April'],\n",
    "    ['6967', 'December'],\n",
    "    ['6358', 'June'],\n",
    "    ['2075', 'September'],\n",
    "    ['9280', 'March'],\n",
    "    ['2815', 'December'],\n",
    "    ['7743', 'August'],\n",
    "    ['1087', 'February'],\n",
    "    ['9691', 'October'],\n",
    "    ['3397', 'June']\n",
    "]\n",
    "\n",
    "res = calculate_churned(user_data = user_data_2021,\n",
    "                        month = 'October')\n",
    "print(res)\n",
    "```\n",
    "\n",
    "**Output 1**\n",
    "```python\n",
    "15\n",
    "```"
   ]
  },
  {
   "cell_type": "markdown",
   "metadata": {
    "id": "eVQBZZbdPJBQ"
   },
   "source": [
    "**Input 1**\n",
    "\n",
    "```python\n",
    "# Input\n",
    "user_data_2022 = [\n",
    "    ['2062', 'February'],\n",
    "    ['5679', 'October'],\n",
    "    ['4690', 'September'],\n",
    "    ['8748', 'March'],\n",
    "    ['8318', 'December'],\n",
    "    ['7814', 'February'],\n",
    "    ['9850', 'November'],\n",
    "    ['2154', 'September'],\n",
    "    ['7767', 'October'],\n",
    "    ['3755', 'January'],\n",
    "    ['3117', 'March'],\n",
    "    ['4197', 'December'],\n",
    "    ['7276', 'December'],\n",
    "    ['3387', 'May'],\n",
    "    ['2160', 'November'],\n",
    "    ['9626', 'October'],\n",
    "    ['5430', 'July'],\n",
    "    ['7055', 'January'],\n",
    "    ['7838', 'July'],\n",
    "    ['8991', 'May'],\n",
    "    ['6238', 'September'],\n",
    "    ['8033', 'October'],\n",
    "    ['8711', 'January'],\n",
    "    ['9999', 'December'],\n",
    "    ['9980', 'May'],\n",
    "    ['8282', 'September'],\n",
    "    ['1508', 'March'],\n",
    "    ['9899', 'January'],\n",
    "    ['4745', 'October'],\n",
    "    ['9615', 'August'],\n",
    "    ['8526', 'July'],\n",
    "    ['8736', 'January'],\n",
    "    ['6244', 'December'],\n",
    "    ['8319', 'August'],\n",
    "    ['1415', 'April'],\n",
    "    ['3413', 'March'],\n",
    "    ['1683', 'January'],\n",
    "    ['8825', 'November'],\n",
    "    ['6098', 'August'],\n",
    "    ['2627', 'February']\n",
    "]\n",
    "\n",
    "res = calculate_churned(user_data = user_data_2022,\n",
    "                        month = 'August')\n",
    "print(res)\n",
    "```\n",
    "\n",
    "**Output 1**\n",
    "```python\n",
    "20\n",
    "```"
   ]
  },
  {
   "cell_type": "markdown",
   "metadata": {
    "id": "utpLqcoTDWhl"
   },
   "source": [
    "## Answer\n",
    "\n",
    "---\n",
    "- Provide the code for solving the problem\n",
    "- **Make sure your function follows the `Detail Function`**"
   ]
  },
  {
   "cell_type": "code",
   "execution_count": 23,
   "metadata": {
    "id": "2cMCngmBDWhl"
   },
   "outputs": [
    {
     "name": "stdout",
     "output_type": "stream",
     "text": [
      "User Churned in 2021: 17\n",
      "User Churned in 2022: 1\n"
     ]
    }
   ],
   "source": [
    "# Write your code here\n",
    "# Note: You can write your input manually\n",
    "def calculate_churned(user_data, month):\n",
    "    # Inisialisasi jumlah churned user\n",
    "    churned = 0\n",
    "    \n",
    "    # Mengecek setiap data user\n",
    "    for user in user_data:\n",
    "        user_month = user[1]\n",
    "        \n",
    "        # Menghitung churned user\n",
    "        if user_month < month:\n",
    "            churned += 1\n",
    "    \n",
    "    return churned\n",
    "\n",
    "# Contoh penggunaan\n",
    "user_data_2021 = [\n",
    "    ['5105', 'August'], ['8806', 'August'], ['1008', 'December'], ['2655', 'October'],\n",
    "    ['5645', 'January'], ['3660', 'February'], ['1655', 'July'], ['5772', 'January'],\n",
    "    ['4361', 'January'], ['9155', 'March'], ['7689', 'April'], ['6967', 'December'],\n",
    "    ['6358', 'June'], ['2075', 'September'], ['9280', 'March'], ['2815', 'December'],\n",
    "    ['7743', 'August'], ['1087', 'February'], ['9691', 'October'], ['3397', 'June']\n",
    "]\n",
    "\n",
    "hasil_1 = calculate_churned(user_data=user_data_2021, month='October')\n",
    "print(f'User Churned in 2021: {hasil_1}')\n",
    "\n",
    "user_data_2022 = [\n",
    "    ['2062', 'February'], ['5679', 'October'], ['4690', 'September'], ['8748', 'March'],\n",
    "    ['8318', 'December'], ['7814', 'February'], ['9850', 'November'], ['2154', 'September'],\n",
    "    ['7767', 'October'], ['3755', 'January'], ['3117', 'March'], ['4197', 'December'],\n",
    "    ['7276', 'December'], ['3387', 'May'], ['2160', 'November'], ['9626', 'October'],\n",
    "    ['5430', 'July'], ['7055', 'January'], ['7838', 'July'], ['8991', 'May'], ['6238', 'September'],\n",
    "    ['8033', 'October'], ['8711', 'January'], ['9999', 'December'], ['9980', 'May'],\n",
    "    ['8282', 'September'], ['1508', 'March'], ['9899', 'January'], ['4745', 'October'],\n",
    "    ['9615', 'August'], ['8526', 'July'], ['8736', 'January'], ['6244', 'December'],\n",
    "    ['8319', 'August'], ['1415', 'April'], ['3413', 'March'], ['1683', 'January'],\n",
    "    ['8825', 'November'], ['6098', 'August'], ['2627', 'February']\n",
    "]\n",
    "\n",
    "hasil_2 = calculate_churned(user_data=user_data_2022, month='August')\n",
    "print(f'User Churned in 2022: {hasil_2}')"
   ]
  },
  {
   "cell_type": "markdown",
   "metadata": {
    "id": "11jrU358T3Gk"
   },
   "source": [
    "# Task 7. Count Alphabet"
   ]
  },
  {
   "cell_type": "markdown",
   "metadata": {
    "id": "x1N8mFgtGaD5"
   },
   "source": [
    "**Task Descriptions**\n",
    "\n",
    "- Given an `input_text`\n",
    "- Your tasks are to calculate how many characters that upper case, lower case, and numeric inside the `input_text`\n",
    "- You must also count how many characters in the input\n",
    "- But there are some requirements in this task, your `input_text` must be in the correct format like there must be a whitespace inside the string.\n",
    "- If the requirements are not met, it will print a message **`\"Not a Valid Text\"`**"
   ]
  },
  {
   "cell_type": "markdown",
   "metadata": {
    "id": "Gkg3OZx_IGl3"
   },
   "source": [
    "**Input - 1**\n",
    "\n",
    "```py\n",
    "count_alphabet(\"Komm, süsser Tod\")\n",
    "```"
   ]
  },
  {
   "cell_type": "markdown",
   "metadata": {
    "id": "51R3WdcVIXz5"
   },
   "source": [
    "**Output - 1**\n",
    "\n",
    "```py\n",
    "Total Character: 13\n",
    "Count Upper Case: 2, Count Lower Case: 11, Count Digit: 0\n",
    "```"
   ]
  },
  {
   "cell_type": "markdown",
   "metadata": {
    "id": "ILG-3A8tI1F8"
   },
   "source": [
    "**Input - 2**\n",
    "\n",
    "```py\n",
    "count_alphabet(\"Kode Pos dari Pasar Minggu adalah 12560\")\n",
    "```"
   ]
  },
  {
   "cell_type": "markdown",
   "metadata": {
    "id": "vbCFkZHEI4yc"
   },
   "source": [
    "**Output - 2**\n",
    "\n",
    "```py\n",
    "Total Character: 33\n",
    "Count Upper Case: 4, Count Lower Case: 24, Count Digit: 5\n",
    "```"
   ]
  },
  {
   "cell_type": "markdown",
   "metadata": {
    "id": "PUSPMtC9I-59"
   },
   "source": [
    "**Input - 3**\n",
    "\n",
    "```py\n",
    "count_alphabet(\"BesokKitaPergiMakan\")\n",
    "```"
   ]
  },
  {
   "cell_type": "markdown",
   "metadata": {
    "id": "MXcm91ymJSm6"
   },
   "source": [
    "**Output - 3**\n",
    "\n",
    "```py\n",
    "Not a Valid Text\n",
    "```"
   ]
  },
  {
   "cell_type": "code",
   "execution_count": 21,
   "metadata": {
    "id": "NTgm_usRmdz2"
   },
   "outputs": [
    {
     "name": "stdout",
     "output_type": "stream",
     "text": [
      "Total Character: 16\n",
      "Count Upper Case: 2, Count Lower Case: 11, Count Digit: 0\n",
      "Total Character: 39\n",
      "Count Upper Case: 4, Count Lower Case: 24, Count Digit: 5\n",
      "Not a Valid Text\n",
      "Total Character: 12\n",
      "Count Upper Case: 1, Count Lower Case: 5, Count Digit: 5\n"
     ]
    }
   ],
   "source": [
    "def count_alphabet(input_text):\n",
    "    # Memeriksa apakah input_text memenuhi persyaratan\n",
    "    if ' ' not in input_text:\n",
    "        print(\"Not a Valid Text\")\n",
    "        return\n",
    "\n",
    "    # Menginisialisasi variabel untuk menghitung karakter\n",
    "    total_char = len(input_text)\n",
    "    upper_count = 0\n",
    "    lower_count = 0\n",
    "    digit_count = 0\n",
    "\n",
    "    # Menghitung jumlah karakter upper case, lower case, dan digit\n",
    "    for char in input_text:\n",
    "        if char.isupper():\n",
    "            upper_count += 1\n",
    "        elif char.islower():\n",
    "            lower_count += 1\n",
    "        elif char.isdigit():\n",
    "            digit_count += 1\n",
    "\n",
    "    # Menampilkan hasil\n",
    "    print(f\"Total Character: {total_char}\")\n",
    "    print(f\"Count Upper Case: {upper_count}, Count Lower Case: {lower_count}, Count Digit: {digit_count}\")\n",
    "\n",
    "# Contoh penggunaan\n",
    "count_alphabet(\"Komm, süsser Tod\")\n",
    "count_alphabet(\"Kode Pos dari Pasar Minggu adalah 12560\")\n",
    "count_alphabet(\"BesokKitaPergiMakan\")\n",
    "count_alphabet(\"Makidi 14045\")"
   ]
  }
 ],
 "metadata": {
  "colab": {
   "collapsed_sections": [
    "mXjAL-TyG8O_",
    "HBpPiNIxd7os",
    "xsUAqsjvIBVH",
    "1Lvmi7SKAR2A",
    "EOdMk1QDDWhA",
    "rw6bdBFrDWhh",
    "utpLqcoTDWhl",
    "11jrU358T3Gk"
   ],
   "provenance": []
  },
  "kernelspec": {
   "display_name": "Python 3 (ipykernel)",
   "language": "python",
   "name": "python3"
  },
  "language_info": {
   "codemirror_mode": {
    "name": "ipython",
    "version": 3
   },
   "file_extension": ".py",
   "mimetype": "text/x-python",
   "name": "python",
   "nbconvert_exporter": "python",
   "pygments_lexer": "ipython3",
   "version": "3.11.7"
  }
 },
 "nbformat": 4,
 "nbformat_minor": 4
}
