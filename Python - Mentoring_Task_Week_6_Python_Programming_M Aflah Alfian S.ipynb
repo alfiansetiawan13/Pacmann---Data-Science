{
 "cells": [
  {
   "cell_type": "markdown",
   "metadata": {
    "id": "oiHKP1fFcQg8"
   },
   "source": [
    "# Week 6 - Python Programming\n",
    "---\n",
    "\n",
    "Mentoring Session - Job Preparation Program - Pacmann AI"
   ]
  },
  {
   "cell_type": "markdown",
   "metadata": {
    "id": "EOdMk1QDDWhA",
    "tags": []
   },
   "source": [
    "# Task 1. User Registration\n",
    "\n",
    "Category: Medium\n",
    "\n",
    "---"
   ]
  },
  {
   "cell_type": "markdown",
   "metadata": {
    "id": "rw6bdBFrDWhh"
   },
   "source": [
    "## Task Descriptions\n",
    "---\n",
    "- Create two classes to add user, deactivate user, and summarize user"
   ]
  },
  {
   "cell_type": "markdown",
   "metadata": {
    "id": "0DgsGgpoDWhj"
   },
   "source": [
    "## Detail function\n",
    "---"
   ]
  },
  {
   "cell_type": "markdown",
   "metadata": {
    "id": "wAKdUFoSDWhj"
   },
   "source": [
    "- Create two classes called by `UserData` and `RegistrationData`\n",
    "- The `RegistrationData` class inherit the `UserData` class.\n",
    "- In `UserData` class\n",
    "  - You initialize the class without inserting any input\n",
    "    - When initialize, it automatically create parameter called by `user_data` (list)\n",
    "    - Example of `user_data`\n",
    "    ```python\n",
    "    [\n",
    "            {'user_id': 1, 'data': {'name': 'cahya', 'gender': 'male', 'status': 'active'}},\n",
    "            {'user_id': 2, 'data': {'name': 'dewa', 'gender': 'male', 'status': 'active'}},\n",
    "            {'user_id': 3, 'data': {'name': 'fanny', 'gender': 'female', 'status': 'inactive'}}\n",
    "    ]\n",
    "    ```\n",
    "  - `UserData` class has 1 method called by `summarize`\n",
    "    - This method print the number of all user & active user get from `user_data` (list)\n",
    "    - Example\n",
    "    ```\n",
    "        Data summary\n",
    "        ------------\n",
    "        Number of all user    : 3\n",
    "        Numebr of active user : 2\n",
    "    ```\n",
    "- In `RegistrationData` class\n",
    "  - `RegistrationData` has two methods: `add_user` and `deactivate_user`\n",
    "  - `add_user`\n",
    "    - Adding user data to `user_data`\n",
    "    - It needs two input: `name` (str) and `gender` (str)\n",
    "    - When called,\n",
    "        - You start to count from 1 and set it as the corresponding user id\n",
    "        - Then you add a dictionary of user data to `user_data`\n",
    "        - The dictionary have two keys: `user_id` and `data`\n",
    "        - The value of `user_id` is `int` while the value of `data` is another dictionary.\n",
    "        - Inside the `data` key, it has 3 other keys: `name`, `gender`, and `status` that tell user name, user gender, and user status (default value is `active`).\n",
    "    - So, if you call `add_user(name='cahya', gender='male')`, <br>then you will add `{'user_id': 1, 'data': {'name': 'cahya', 'gender': 'male', 'status': 'active'}` to `user_data`\n",
    "    - If you call again the function by `add_user(name='fany', gender='female')`, <br>then you will add `{'user_id': 2, 'data': {'name': 'fany', 'gender': 'female', 'status': 'active'}` to `user_data`\n",
    "    \n",
    "  - `deactivate_user`\n",
    "    - Deactive user status by its `id`\n",
    "    - It needs one input, `user_id` (int)\n",
    "    - And change the user status from `active` to `inactive`"
   ]
  },
  {
   "cell_type": "markdown",
   "metadata": {
    "id": "DjCgn0N5DWhj"
   },
   "source": [
    "## Examples\n",
    "---"
   ]
  },
  {
   "cell_type": "markdown",
   "metadata": {
    "id": "L8Dx5aboDWhk"
   },
   "source": [
    "**Input 1**\n",
    "\n",
    "```python\n",
    "# Create an object\n",
    "data = RegistrationData()\n",
    "\n",
    "# First month\n",
    "data.add_user(name='cahya', gender='male')      # add user\n",
    "data.add_user(name='dewa', gender='male')       # add user\n",
    "data.add_user(name='fanny', gender='female')    # add user\n",
    "data.deactivate_user(user_id=3)                 # deactivate Fanny\n",
    "\n",
    "# Get the data summary\n",
    "data.summarize()\n",
    "\n",
    "# Print all data\n",
    "print('Data')\n",
    "print('-----------')\n",
    "data.user_data\n",
    "```\n",
    "\n",
    "**Output 1**\n",
    "```\n",
    "Data summary\n",
    "------------\n",
    "Number of all user    : 3\n",
    "Number of active user : 2\n",
    "\n",
    "Data\n",
    "-----------\n",
    "[{'user_id': 1,\n",
    "  'data': {'name': 'cahya', 'gender': 'male', 'status': 'active'}},\n",
    " {'user_id': 2,\n",
    "  'data': {'name': 'dewa', 'gender': 'male', 'status': 'active'}},\n",
    " {'user_id': 3,\n",
    "  'data': {'name': 'fanny', 'gender': 'female', 'status': 'inactive'}}]\n",
    "```"
   ]
  },
  {
   "cell_type": "markdown",
   "metadata": {
    "id": "eVQBZZbdPJBQ"
   },
   "source": [
    "---\n",
    "**Input 2**\n",
    "\n",
    "```python\n",
    "# Create an object\n",
    "data = RegistrationData()\n",
    "\n",
    "# First month\n",
    "data.add_user(name='cahya', gender='male')      # add user\n",
    "data.add_user(name='dewa', gender='male')       # add user\n",
    "data.add_user(name='fanny', gender='female')    # add user\n",
    "data.add_user(name='dron', gender='male')       # add user\n",
    "data.deactivate_user(user_id=2)                 # deactivate user\n",
    "data.add_user(name='gaby', gender='female')     # add user\n",
    "data.add_user(name='sativa', gender='female')   # add user\n",
    "data.deactivate_user(user_id=5)                 # deactivate user\n",
    "\n",
    "# Get the data summary\n",
    "data.summarize()\n",
    "\n",
    "# Print all data\n",
    "print('Data')\n",
    "print('-----------')\n",
    "data.user_data\n",
    "```\n",
    "\n",
    "**Output 2**\n",
    "```\n",
    "Data summary\n",
    "------------\n",
    "Number of all user    : 6\n",
    "Number of active user : 4\n",
    "\n",
    "Data\n",
    "-----------\n",
    "[{'user_id': 1,\n",
    "  'data': {'name': 'cahya', 'gender': 'male', 'status': 'active'}},\n",
    " {'user_id': 2,\n",
    "  'data': {'name': 'dewa', 'gender': 'male', 'status': 'inactive'}},\n",
    " {'user_id': 3,\n",
    "  'data': {'name': 'fanny', 'gender': 'female', 'status': 'active'}},\n",
    " {'user_id': 4,\n",
    "  'data': {'name': 'dron', 'gender': 'male', 'status': 'active'}},\n",
    " {'user_id': 5,\n",
    "  'data': {'name': 'gaby', 'gender': 'female', 'status': 'inactive'}},\n",
    " {'user_id': 6,\n",
    "  'data': {'name': 'sativa', 'gender': 'female', 'status': 'active'}}]\n",
    "```"
   ]
  },
  {
   "cell_type": "markdown",
   "metadata": {
    "id": "utpLqcoTDWhl"
   },
   "source": [
    "## Answer\n",
    "\n",
    "---\n",
    "- Provide the code for solving the problem\n",
    "- **Make sure your function follows the `Detail Function`**"
   ]
  },
  {
   "cell_type": "code",
   "execution_count": 1,
   "metadata": {
    "id": "2cMCngmBDWhl"
   },
   "outputs": [
    {
     "name": "stdout",
     "output_type": "stream",
     "text": [
      "Data summary\n",
      "------------\n",
      "Number of all user    : 3\n",
      "Number of active user : 2\n",
      "Data\n",
      "-----------\n",
      "[{'user_id': 1, 'data': {'name': 'cahya', 'gender': 'male', 'status': 'active'}}, {'user_id': 2, 'data': {'name': 'dewa', 'gender': 'male', 'status': 'active'}}, {'user_id': 3, 'data': {'name': 'fanny', 'gender': 'female', 'status': 'inactive'}}]\n"
     ]
    }
   ],
   "source": [
    "# Write your code here\n",
    "# Note: You can write your input manually\n",
    "class UserData:\n",
    "    def __init__(self):\n",
    "        self.user_data = []\n",
    "\n",
    "    def summarize(self):\n",
    "        all_users = len(self.user_data)\n",
    "        active_users = sum(1 for user in self.user_data if user['data']['status'] == 'active')\n",
    "\n",
    "        print(\"Data summary\")\n",
    "        print(\"------------\")\n",
    "        print(f\"Number of all user    : {all_users}\")\n",
    "        print(f\"Number of active user : {active_users}\")\n",
    "\n",
    "class RegistrationData(UserData):\n",
    "    def add_user(self, name, gender):\n",
    "        user_id = len(self.user_data) + 1\n",
    "        new_user = {'user_id': user_id, 'data': {'name': name, 'gender': gender, 'status': 'active'}}\n",
    "        self.user_data.append(new_user)\n",
    "\n",
    "    def deactivate_user(self, user_id):\n",
    "        for user in self.user_data:\n",
    "            if user['user_id'] == user_id:\n",
    "                user['data']['status'] = 'inactive'\n",
    "                break\n",
    "\n",
    "# Contoh penggunaan\n",
    "# First month\n",
    "data = RegistrationData()\n",
    "data.add_user(name='cahya', gender='male')      # add user\n",
    "data.add_user(name='dewa', gender='male')       # add user\n",
    "data.add_user(name='fanny', gender='female')    # add user\n",
    "data.deactivate_user(user_id=3)                 # deactivate Fanny\n",
    "\n",
    "# Get the data summary\n",
    "data.summarize()\n",
    "\n",
    "# Print all data\n",
    "print('Data')\n",
    "print('-----------')\n",
    "print(data.user_data)"
   ]
  },
  {
   "cell_type": "markdown",
   "metadata": {
    "id": "sMMfv8sK8jJz"
   },
   "source": [
    "# Task 2. Normalize Data\n",
    "\n",
    "Category: Medium\n",
    "\n",
    "---"
   ]
  },
  {
   "cell_type": "markdown",
   "metadata": {
    "id": "8hXTw4yi8jKc"
   },
   "source": [
    "## Task Descriptions\n",
    "---\n",
    "- Create a class to normalize a set of data"
   ]
  },
  {
   "cell_type": "markdown",
   "metadata": {
    "id": "SUwh0w7q8jKd"
   },
   "source": [
    "**What is a normalization?**\n",
    "\n",
    "- Convert a set of data to have minimum value of 0.0 and maximum value of 1.0.\n",
    "- How to **transform** or **normalize** a data?\n",
    "\n",
    "$$\n",
    "x^{(\\text{new})}_{i}\n",
    "=\n",
    "\\cfrac\n",
    "{x^{(\\text{old})}_{i} - \\min(x^{(\\text{old})})}\n",
    "{\\max(x^{(\\text{old})}) - \\min(x^{(\\text{old})})}\n",
    "$$"
   ]
  },
  {
   "cell_type": "markdown",
   "metadata": {
    "id": "xQ3daWFINKKn"
   },
   "source": [
    "**Examples**\n",
    "- Let, `x = [-3, -9, 0, 8, 11]`\n",
    "- We know that\n",
    "  - `min(x) = -9`\n",
    "  - `max(x) = 11`\n",
    "- Then\n",
    "\n",
    "$$\n",
    "\\begin{align*}\n",
    "x^{(\\text{new})}_{1}\n",
    "&=\n",
    "\\cfrac\n",
    "{x^{(\\text{old})}_{1} - \\min(x^{(\\text{old})})}\n",
    "{\\max(x^{(\\text{old})}) - \\min(x^{(\\text{old})})} \\\\\n",
    "x^{(\\text{new})}_{1}\n",
    "&=\n",
    "\\cfrac\n",
    "{-3 - (-9)}\n",
    "{11 - (-9)} \\\\\n",
    "x^{(\\text{new})}_{1}\n",
    "&=\n",
    "\\cfrac\n",
    "{6}\n",
    "{20} \\\\\n",
    "x^{(\\text{new})}_{1}\n",
    "&= 0.3\n",
    "\\end{align*}\n",
    "$$\n",
    "\n",
    "- Doing to all the `x`, we will have `x_normalized = [0.30, 0.00, 0.45, 0.05, 1.00]`"
   ]
  },
  {
   "cell_type": "markdown",
   "metadata": {
    "id": "R_bPLY6K8jKe"
   },
   "source": [
    "## Detail function\n",
    "---"
   ]
  },
  {
   "cell_type": "markdown",
   "metadata": {
    "id": "ZD-sReJ7Pal9"
   },
   "source": [
    "- Create a class named `Normalizer`\n",
    "- You can initialize the class without any input.\n",
    "- The `Normalizer` has three method\n",
    "  1. `fit`\n",
    "    - Have one input: `data` (list)\n",
    "    - To get the minimum & maximum value of data\n",
    "  2. `transform`\n",
    "    - Have one input: `data` (list)\n",
    "    - Have one output: `data_scaled` (list)\n",
    "    - Normalize the input data\n",
    "  3. `inverse_transform`\n",
    "    - Have one input: `data` (list)\n",
    "    - Have one output: `data_inv_scaled` (list)\n",
    "    - Return the normalize data to the initial data\n",
    "- The `Normalizer` has three parameters\n",
    "  1. `min`, contain the minimum value of the data\n",
    "  2. `max`, contain the maximum value of the data"
   ]
  },
  {
   "cell_type": "markdown",
   "metadata": {
    "id": "mukt9DGJ8jKf"
   },
   "source": [
    "## Examples\n",
    "---"
   ]
  },
  {
   "cell_type": "markdown",
   "metadata": {
    "id": "tCEZyyOBQe8M"
   },
   "source": [
    "**Input 1**\n",
    "\n",
    "```python\n",
    "# Define a data to normalize\n",
    "x = [-3, -9, 0, 8, 11]\n",
    "\n",
    "# 1. Initialize a Normalizer object\n",
    "scaler = Normalizer()\n",
    "\n",
    "# 2. Fit the data\n",
    "scaler.fit(data = x)\n",
    "print('min value    :', scaler.min)\n",
    "print('max value    :', scaler.max)\n",
    "\n",
    "# 3. Transform data\n",
    "x_scaled = scaler.transform(data = x)\n",
    "print('x initial    :', x)\n",
    "print('x scaled     :', x_scaled)\n",
    "\n",
    "# 4. Transform back the scaled data\n",
    "x_inv_scaled = scaler.inverse_transform(data = x_scaled)\n",
    "print('x inv scaled :', x_inv_scaled)\n",
    "```\n",
    "\n",
    "**Output 1**\n",
    "```\n",
    "min value    : -9\n",
    "max value    : 11\n",
    "x initial    : [-3, -9, 0, 8, 11]\n",
    "x scaled     : [0.3, 0.0, 0.45, 0.85, 1.0]\n",
    "x inv scaled : [-3.0, -9.0, 0.0, 8.0, 11.0]\n",
    "```"
   ]
  },
  {
   "cell_type": "markdown",
   "metadata": {
    "id": "GhnafjbwSaKB"
   },
   "source": [
    "---\n",
    "**Input 2**\n",
    "\n",
    "```python\n",
    "# Define a data to normalize\n",
    "x = [8, -3.7, 9, 8.2, 100, 8.9, 4.3, 12.5, -20.0, 3.2]\n",
    "\n",
    "# 1. Initialize a Normalizer object\n",
    "scaler = Normalizer()\n",
    "\n",
    "# 2. Fit the data\n",
    "scaler.fit(data = x)\n",
    "print('min value    :', scaler.min)\n",
    "print('max value    :', scaler.max)\n",
    "\n",
    "# 3. Transform data\n",
    "x_scaled = scaler.transform(data = x)\n",
    "print('x initial    :', x)\n",
    "print('x scaled     :', x_scaled)\n",
    "\n",
    "# 4. Transform back the scaled data\n",
    "x_inv_scaled = scaler.inverse_transform(data = x_scaled)\n",
    "print('x inv scaled :', x_inv_scaled)\n",
    "```\n",
    "\n",
    "**Output 2**\n",
    "```\n",
    "min value    : -20.0\n",
    "max value    : 100\n",
    "x initial    : [8, -3.7, 9, 8.2, 100, 8.9, 4.3, 12.5, -20.0, 3.2]\n",
    "x scaled     : [0.23333333333333334, 0.13583333333333333, 0.24166666666666667, 0.235, 1.0, 0.24083333333333332, 0.2025, 0.2708333333333333, 0.0, 0.19333333333333333]\n",
    "x inv scaled : [8.0, -3.6999999999999993, 9.0, 8.2, 100.0, 8.899999999999999, 4.300000000000001, 12.5, -20.0, 3.1999999999999993]\n",
    "```"
   ]
  },
  {
   "cell_type": "markdown",
   "metadata": {
    "id": "hJlq8usaTbSW"
   },
   "source": [
    "---\n",
    "**Input 3 - SPECIAL INPUT**\n",
    "\n",
    "```python\n",
    "# Define a data to normalize\n",
    "x = [8, -3.7, 9, 8.2, 8.9, 4.3, 12.5, -20.0, 3.2]\n",
    "\n",
    "# 1. Initialize a Normalizer object\n",
    "scaler = Normalizer()\n",
    "\n",
    "# 2. Fit the data\n",
    "scaler.fit(data = x)\n",
    "print('min value    :', scaler.min)\n",
    "print('max value    :', scaler.max)\n",
    "\n",
    "# 3. Transform data\n",
    "x_scaled = scaler.transform(data = x)\n",
    "print('x initial    :', x)\n",
    "print('x scaled     :', x_scaled)\n",
    "\n",
    "# 4. Transform another data\n",
    "x_new = [4.0, 3.0, -2.0, 1.0, 9.0, 8.0]\n",
    "x_new_scaled = scaler.transform(data = x_new)\n",
    "print('x new init   :', x_new)\n",
    "print('x new scaled :', x_new_scaled)\n",
    "```\n",
    "\n",
    "**Output 3**\n",
    "```\n",
    "min value    : -20.0\n",
    "max value    : 12.5\n",
    "x initial    : [8, -3.7, 9, 8.2, 8.9, 4.3, 12.5, -20.0, 3.2]\n",
    "x scaled     : [0.8615384615384616, 0.5015384615384616, 0.8923076923076924, 0.8676923076923077, 0.8892307692307692, 0.7476923076923078, 1.0, 0.0, 0.7138461538461538]\n",
    "x new init   : [4.0, 3.0, -2.0, 1.0, 9.0, 8.0]\n",
    "x new scaled : [0.7384615384615385, 0.7076923076923077, 0.5538461538461539, 0.6461538461538462, 0.8923076923076924, 0.8615384615384616]\n",
    "```"
   ]
  },
  {
   "cell_type": "markdown",
   "metadata": {
    "id": "03X_QrF38jKh"
   },
   "source": [
    "## Answer\n",
    "\n",
    "---\n",
    "- Provide the code for solving the problem\n",
    "- **Make sure your function follows the `Detail Function`**"
   ]
  },
  {
   "cell_type": "code",
   "execution_count": 11,
   "metadata": {
    "id": "oSWuJ6g08jKi"
   },
   "outputs": [
    {
     "name": "stdout",
     "output_type": "stream",
     "text": [
      "min value    : -9\n",
      "max value    : 11\n",
      "x1 initial   : [-3, -9, 0, 8, 11]\n",
      "x1 scaled    : [0.3, 0.0, 0.45, 0.85, 1.0]\n",
      "x1 inv scaled: [-3.0, -9.0, 0.0, 8.0, 11.0]\n",
      "---------------------------------------------------------------------------------\n",
      "min value    : -20.0\n",
      "max value    : 100\n",
      "x2 initial   : [8, -3.7, 9, 8.2, 100, 8.9, 4.3, 12.5, -20.0, 3.2]\n",
      "x2 scaled    : [0.23333333333333334, 0.13583333333333333, 0.24166666666666667, 0.235, 1.0, 0.24083333333333332, 0.2025, 0.2708333333333333, 0.0, 0.19333333333333333]\n",
      "x2 inv scaled: [8.0, -3.6999999999999993, 9.0, 8.2, 100.0, 8.899999999999999, 4.300000000000001, 12.5, -20.0, 3.1999999999999993]\n",
      "---------------------------------------------------------------------------------\n",
      "min value    : -20.0\n",
      "max value    : 12.5\n",
      "x3 initial   : [8, -3.7, 9, 8.2, 8.9, 4.3, 12.5, -20.0, 3.2]\n",
      "x3 scaled    : [0.8615384615384616, 0.5015384615384616, 0.8923076923076924, 0.8676923076923077, 0.8892307692307692, 0.7476923076923078, 1.0, 0.0, 0.7138461538461538]\n",
      "x new init   : [4.0, 3.0, -2.0, 1.0, 9.0, 8.0]\n",
      "x new scaled : [0.7384615384615385, 0.7076923076923077, 0.5538461538461539, 0.6461538461538462, 0.8923076923076924, 0.8615384615384616]\n"
     ]
    }
   ],
   "source": [
    "# Write your code here\n",
    "# Note: You can write your input manually\n",
    "class Normalizer:\n",
    "    def __init__(self):\n",
    "        self.min = None\n",
    "        self.max = None\n",
    "\n",
    "    def fit(self, data):\n",
    "        self.min = min(data)\n",
    "        self.max = max(data)\n",
    "\n",
    "    def transform(self, data):\n",
    "        data_scaled = [(x - self.min) / (self.max - self.min) for x in data]\n",
    "        return data_scaled\n",
    "\n",
    "    def inverse_transform(self, data):\n",
    "        data_inv_scaled = [(x * (self.max - self.min) + self.min) for x in data]\n",
    "        return data_inv_scaled\n",
    "\n",
    "# Contoh penggunaan\n",
    "# Input 1\n",
    "x1 = [-3, -9, 0, 8, 11]\n",
    "scaler1 = Normalizer()\n",
    "scaler1.fit(data=x1)\n",
    "x1_scaled = scaler1.transform(data=x1)\n",
    "x1_inv_scaled = scaler1.inverse_transform(data=x1_scaled)\n",
    "\n",
    "print('min value    :', scaler1.min)\n",
    "print('max value    :', scaler1.max)\n",
    "print('x1 initial   :', x1)\n",
    "print('x1 scaled    :', x1_scaled)\n",
    "print('x1 inv scaled:', x1_inv_scaled)\n",
    "\n",
    "print(\"---------------------------------------------------------------------------------\")\n",
    "\n",
    "# Input 2\n",
    "x2 = [8, -3.7, 9, 8.2, 100, 8.9, 4.3, 12.5, -20.0, 3.2]\n",
    "scaler2 = Normalizer()\n",
    "scaler2.fit(data=x2)\n",
    "x2_scaled = scaler2.transform(data=x2)\n",
    "x2_inv_scaled = scaler2.inverse_transform(data=x2_scaled)\n",
    "\n",
    "print('min value    :', scaler2.min)\n",
    "print('max value    :', scaler2.max)\n",
    "print('x2 initial   :', x2)\n",
    "print('x2 scaled    :', x2_scaled)\n",
    "print('x2 inv scaled:', x2_inv_scaled)\n",
    "\n",
    "print(\"---------------------------------------------------------------------------------\")\n",
    "\n",
    "# Input 3\n",
    "x3 = [8, -3.7, 9, 8.2, 8.9, 4.3, 12.5, -20.0, 3.2]\n",
    "scaler3 = Normalizer()\n",
    "scaler3.fit(data=x3)\n",
    "x3_scaled = scaler3.transform(data=x3)\n",
    "\n",
    "x_new = [4.0, 3.0, -2.0, 1.0, 9.0, 8.0]\n",
    "x_new_scaled = scaler3.transform(data=x_new)\n",
    "\n",
    "print('min value    :', scaler3.min)\n",
    "print('max value    :', scaler3.max)\n",
    "print('x3 initial   :', x3)\n",
    "print('x3 scaled    :', x3_scaled)\n",
    "print('x new init   :', x_new)\n",
    "print('x new scaled :', x_new_scaled)"
   ]
  },
  {
   "cell_type": "markdown",
   "metadata": {
    "id": "1Lvmi7SKAR2A"
   },
   "source": [
    "# Task 3. Word Mapper\n",
    "\n",
    "Category: Hard\n",
    "\n",
    "---"
   ]
  },
  {
   "cell_type": "markdown",
   "metadata": {
    "id": "KOrJ-tmbAR2X"
   },
   "source": [
    "## Task Descriptions\n",
    "---\n",
    "- Create a class to convert word to numeric"
   ]
  },
  {
   "cell_type": "markdown",
   "metadata": {
    "id": "5oeDx6NCAR2X"
   },
   "source": [
    "**Word to numeric**\n",
    "- When analyzing a text document, we usually convert the given word to numbers thus we can perform a numerical operation."
   ]
  },
  {
   "cell_type": "markdown",
   "metadata": {
    "id": "AaGDyJNkX33k"
   },
   "source": [
    "**Example**\n",
    "- Given a list of words\n",
    "\n",
    "```python\n",
    "google_reviews = [\n",
    "    ['Aplikasinya berjalan dengan baik. Senang'],\n",
    "    ['Kurang suka. Waktu loading pembayaran terlalu lama'],\n",
    "    ['Butuh perbaiki loading dari aplikasi yang terlalu lama'],\n",
    "    ['Cepat proses installasinya'],\n",
    "    ['Kenapa tidak bisa top up bos ?'],\n",
    "    ['Suka suka suka']\n",
    "]\n",
    "```\n",
    "\n",
    "- To convert the list to number, first we need to create the bag of word, i.e. all unique words from the given reviews.\n",
    "\n",
    "```python\n",
    "bag_of_words = [\n",
    "    'aplikasi', 'aplikasinya', 'baik.', 'berjalan',\n",
    "    'bisa', 'bos?', 'butuh', 'cepat', 'dari',\n",
    "    'dengan', 'installasinya', 'kenapa', 'kurang',\n",
    "    'lama', 'loading', 'pembayaran', 'perbaiki',\n",
    "    'proses', 'senang', 'suka', 'suka.',\n",
    "    'terlalu', 'tidak', 'top', 'up',\n",
    "    'waktu', 'yang']\n",
    "```\n",
    "\n",
    "- After that, you can create a map, i.e. `words -> number`\n",
    "\n",
    "```python\n",
    "word_to_index = {\n",
    "    'aplikasi': 0,\n",
    "    'aplikasinya': 1,\n",
    "    'baik.': 2,\n",
    "    'berjalan': 3,\n",
    "    'bisa': 4,\n",
    "    'bos?': 5,\n",
    "    'butuh': 6,\n",
    "    'cepat': 7,\n",
    "    'dari': 8,\n",
    "    'dengan': 9,\n",
    "    'installasinya': 10,\n",
    "    'kenapa': 11,\n",
    "    'kurang': 12,\n",
    "    'lama': 13,\n",
    "    'loading': 14,\n",
    "    'pembayaran': 15,\n",
    "    'perbaiki': 16,\n",
    "    'proses': 17,\n",
    "    'senang': 18,\n",
    "    'suka': 19,\n",
    "    'suka.': 20,\n",
    "    'terlalu': 21,\n",
    "    'tidak': 22,\n",
    "    'top': 23,\n",
    "    'up': 24,\n",
    "    'waktu': 25,\n",
    "    'yang': 26\n",
    "}\n",
    "```\n",
    "\n",
    "- With the above map, we switch the word with the corresponding number.\n",
    "- Say the sentence is `['Aplikasinya berjalan']`, then the converted sentence is `[1, 3]`\n",
    "\n",
    "- Finally, you can map the whole google reviews to\n",
    "\n",
    "```python\n",
    "google_reviews_transformed = [\n",
    "    [1, 3, 9, 2, 18],\n",
    "    [12, 20, 25, 14, 15, 21, 13],\n",
    "    [6, 16, 14, 8, 0, 26, 21, 13],\n",
    "    [7, 17, 10],\n",
    "    [11, 22, 4, 23, 24, 5],\n",
    "    [19, 19, 19]\n",
    "]\n",
    "```"
   ]
  },
  {
   "cell_type": "markdown",
   "metadata": {
    "id": "fTGn2luKAR2Y"
   },
   "source": [
    "## Detail function\n",
    "---"
   ]
  },
  {
   "cell_type": "markdown",
   "metadata": {
    "id": "tEaLWiIZAR2Y"
   },
   "source": [
    "- Create a class called by `Mapper`\n",
    "- `Mapper` could be initialize without inserting any input\n",
    "- `Mapper` has several method:\n",
    "  - `fit`\n",
    "    - To create a bag of word and word-to-index mapper from a given `sentence_list`\n",
    "    - Has 1 input, `sentence_list` (list)\n",
    "    - Has no output\n",
    "  - `transform`\n",
    "    - To transform a `sentence_list` to number based on the obtained bag of words and word-to-index mapper\n",
    "    - Has 1 input, `sentence_list` (list)\n",
    "    - Has 1 output, `sentence_list_transformed` (list)\n",
    "  - `inverse_transform`\n",
    "    - To inverse transform number to word based on the obtained bag of words and word-to-index mapper\n",
    "    - Has 1 input, `sentence_list_number` (list)\n",
    "    - Has 1 output, `sentence_list` (list)\n",
    "\n",
    "- `Mapper` has several parameters:\n",
    "  - `bag_of_words` (list), contain all the unique word from the given sentence list (in an alphabetical order)\n",
    "  - `word_to_index` (dictionary), contain a map of word to index based on the given `bag_of_words`"
   ]
  },
  {
   "cell_type": "markdown",
   "metadata": {
    "id": "k7TYvpqPAR2Z"
   },
   "source": [
    "## Examples\n",
    "---"
   ]
  },
  {
   "cell_type": "markdown",
   "metadata": {
    "id": "xBisqn3HAR2Z"
   },
   "source": [
    "**Input 1**\n",
    "\n",
    "```python\n",
    "# Google review comments\n",
    "google_reviews = [\n",
    "    ['Aplikasinya berjalan dengan baik. Senang'],\n",
    "    ['Kurang suka. Waktu loading pembayaran terlalu lama'],\n",
    "    ['Butuh perbaiki loading dari aplikasi yang terlalu lama'],\n",
    "    ['Cepat proses installasinya'],\n",
    "    ['Kenapa tidak bisa top up bos?'],\n",
    "    ['Suka suka suka']\n",
    "]\n",
    "\n",
    "# Create a Mapper object\n",
    "map_obj = Mapper()\n",
    "\n",
    "# Fit the mapper\n",
    "map_obj.fit(sentence_list = google_reviews)\n",
    "print('Bag of Words:')\n",
    "print(map_obj.bag_of_words)\n",
    "print('')\n",
    "print('Word to Index:')\n",
    "print(map_obj.word_to_index)\n",
    "print('')\n",
    "\n",
    "# Transform the reviews\n",
    "reviews_transformed = map_obj.transform(sentence_list = google_reviews)\n",
    "print('Transformed reviews:')\n",
    "print(reviews_transformed)\n",
    "print('')\n",
    "\n",
    "\n",
    "# Inverse transform the transformed reviews\n",
    "reviews_inv_transformed = map_obj.inverse_transform(sentence_list_number = reviews_transformed)\n",
    "print('Inverse transformed reviews:')\n",
    "print(reviews_inv_transformed)\n",
    "print('')\n",
    "```\n",
    "\n",
    "**Output 1**\n",
    "```python\n",
    "Bag of Words:\n",
    "['aplikasi', 'aplikasinya', 'baik.', 'berjalan', 'bisa', 'bos?', 'butuh', 'cepat', 'dari', 'dengan', 'installasinya', 'kenapa', 'kurang', 'lama', 'loading', 'pembayaran', 'perbaiki', 'proses', 'senang', 'suka', 'suka.', 'terlalu', 'tidak', 'top', 'up', 'waktu', 'yang']\n",
    "\n",
    "Word to Index:\n",
    "{'aplikasi': 0, 'aplikasinya': 1, 'baik.': 2, 'berjalan': 3, 'bisa': 4, 'bos?': 5, 'butuh': 6, 'cepat': 7, 'dari': 8, 'dengan': 9, 'installasinya': 10, 'kenapa': 11, 'kurang': 12, 'lama': 13, 'loading': 14, 'pembayaran': 15, 'perbaiki': 16, 'proses': 17, 'senang': 18, 'suka': 19, 'suka.': 20, 'terlalu': 21, 'tidak': 22, 'top': 23, 'up': 24, 'waktu': 25, 'yang': 26}\n",
    "\n",
    "Transformed reviews:\n",
    "[[1, 3, 9, 2, 18], [12, 20, 25, 14, 15, 21, 13], [6, 16, 14, 8, 0, 26, 21, 13], [7, 17, 10], [11, 22, 4, 23, 24, 5], [19, 19, 19]]\n",
    "\n",
    "Inverse transformed reviews:\n",
    "['aplikasinya berjalan dengan baik. senang', 'kurang suka. waktu loading pembayaran terlalu lama', 'butuh perbaiki loading dari aplikasi yang terlalu lama', 'cepat proses installasinya', 'kenapa tidak bisa top up bos?', 'suka suka suka']\n",
    "```"
   ]
  },
  {
   "cell_type": "markdown",
   "metadata": {
    "id": "mQnbYJYlAR2Z"
   },
   "source": [
    "---\n",
    "**Input 2**\n",
    "\n",
    "```python\n",
    "# Text: Data Mining dan Contoh Penerapannya untuk Perusahaan\n",
    "# From: https://pacmann.io/blog/data-mining-dan-contoh-penerapannya-untuk-perusahaan\n",
    "doc_text = [\n",
    "    ['Dewasa ini, data mining sudah digunakan nyaris di berbagai industri.'],\n",
    "    ['Seiring budaya informasi berbasis data kian menguat, peran data mining juga semakin vital bagi bisnis.'],\n",
    "    ['Dengan data mining, perusahaan mampu menggali informasi berharga mengenai perilaku konsumen, tren industri, dan masih banyak lagi.'],\n",
    "    ['Berikut adalah beberapa di antaranya'],\n",
    "    ['Mengumpulkan informasi yang reliabel dan faktual'],\n",
    "    ['Mendeteksi dan mencegah penipuan'],\n",
    "    ['Mengidentifikasi risiko'],\n",
    "    ['Merespon perubahan tren dalam industri'],\n",
    "    ['Membuat keputusan yang berbasis data'],\n",
    "    ['Meningkatkan hubungan dengan konsumen'],\n",
    "    ['Kendati demikian, proses data mining juga tidak selalu berjalan sesuai harapan.'],\n",
    "    ['Ada beberapa permasalahan yang kerap ditemui dalam data mining di perusahaan.']\n",
    "]\n",
    "\n",
    "# Create a Mapper object\n",
    "map_obj = Mapper()\n",
    "\n",
    "# Fit the mapper\n",
    "map_obj.fit(sentence_list = doc_text)\n",
    "print('Bag of Words:')\n",
    "print(map_obj.bag_of_words)\n",
    "print('')\n",
    "print('Word to Index:')\n",
    "print(map_obj.word_to_index)\n",
    "print('')\n",
    "\n",
    "# Transform the reviews\n",
    "text_transformed = map_obj.transform(sentence_list = doc_text)\n",
    "print('Transformed text:')\n",
    "print(text_transformed)\n",
    "print('')\n",
    "\n",
    "\n",
    "# Inverse transform the transformed text\n",
    "text_inv_transformed = map_obj.inverse_transform(sentence_list_number = text_transformed)\n",
    "print('Inverse transformed text:')\n",
    "print(text_inv_transformed)\n",
    "print('')\n",
    "```\n",
    "\n",
    "**Output 2**\n",
    "```python\n",
    "Bag of Words:\n",
    "['ada', 'adalah', 'antaranya', 'bagi', 'banyak', 'beberapa', 'berbagai', 'berbasis', 'berharga', 'berikut', 'berjalan', 'bisnis.', 'budaya', 'dalam', 'dan', 'data', 'demikian,', 'dengan', 'dewasa', 'di', 'digunakan', 'ditemui', 'faktual', 'harapan.', 'hubungan', 'industri', 'industri,', 'industri.', 'informasi', 'ini,', 'juga', 'kendati', 'keputusan', 'kerap', 'kian', 'konsumen', 'konsumen,', 'lagi.', 'mampu', 'masih', 'membuat', 'mencegah', 'mendeteksi', 'mengenai', 'menggali', 'mengidentifikasi', 'menguat,', 'mengumpulkan', 'meningkatkan', 'merespon', 'mining', 'mining,', 'nyaris', 'penipuan', 'peran', 'perilaku', 'permasalahan', 'perubahan', 'perusahaan', 'perusahaan.', 'proses', 'reliabel', 'risiko', 'seiring', 'selalu', 'semakin', 'sesuai', 'sudah', 'tidak', 'tren', 'vital', 'yang']\n",
    "\n",
    "Word to Index:\n",
    "{'ada': 0, 'adalah': 1, 'antaranya': 2, 'bagi': 3, 'banyak': 4, 'beberapa': 5, 'berbagai': 6, 'berbasis': 7, 'berharga': 8, 'berikut': 9, 'berjalan': 10, 'bisnis.': 11, 'budaya': 12, 'dalam': 13, 'dan': 14, 'data': 15, 'demikian,': 16, 'dengan': 17, 'dewasa': 18, 'di': 19, 'digunakan': 20, 'ditemui': 21, 'faktual': 22, 'harapan.': 23, 'hubungan': 24, 'industri': 25, 'industri,': 26, 'industri.': 27, 'informasi': 28, 'ini,': 29, 'juga': 30, 'kendati': 31, 'keputusan': 32, 'kerap': 33, 'kian': 34, 'konsumen': 35, 'konsumen,': 36, 'lagi.': 37, 'mampu': 38, 'masih': 39, 'membuat': 40, 'mencegah': 41, 'mendeteksi': 42, 'mengenai': 43, 'menggali': 44, 'mengidentifikasi': 45, 'menguat,': 46, 'mengumpulkan': 47, 'meningkatkan': 48, 'merespon': 49, 'mining': 50, 'mining,': 51, 'nyaris': 52, 'penipuan': 53, 'peran': 54, 'perilaku': 55, 'permasalahan': 56, 'perubahan': 57, 'perusahaan': 58, 'perusahaan.': 59, 'proses': 60, 'reliabel': 61, 'risiko': 62, 'seiring': 63, 'selalu': 64, 'semakin': 65, 'sesuai': 66, 'sudah': 67, 'tidak': 68, 'tren': 69, 'vital': 70, 'yang': 71}\n",
    "\n",
    "Transformed text:\n",
    "[[18, 29, 15, 50, 67, 20, 52, 19, 6, 27], [63, 12, 28, 7, 15, 34, 46, 54, 15, 50, 30, 65, 70, 3, 11], [17, 15, 51, 58, 38, 44, 28, 8, 43, 55, 36, 69, 26, 14, 39, 4, 37], [9, 1, 5, 19, 2], [47, 28, 71, 61, 14, 22], [42, 14, 41, 53], [45, 62], [49, 57, 69, 13, 25], [40, 32, 71, 7, 15], [48, 24, 17, 35], [31, 16, 60, 15, 50, 30, 68, 64, 10, 66, 23], [0, 5, 56, 71, 33, 21, 13, 15, 50, 19, 59]]\n",
    "\n",
    "Inverse transformed text:\n",
    "['dewasa ini, data mining sudah digunakan nyaris di berbagai industri.', 'seiring budaya informasi berbasis data kian menguat, peran data mining juga semakin vital bagi bisnis.', 'dengan data mining, perusahaan mampu menggali informasi berharga mengenai perilaku konsumen, tren industri, dan masih banyak lagi.', 'berikut adalah beberapa di antaranya', 'mengumpulkan informasi yang reliabel dan faktual', 'mendeteksi dan mencegah penipuan', 'mengidentifikasi risiko', 'merespon perubahan tren dalam industri', 'membuat keputusan yang berbasis data', 'meningkatkan hubungan dengan konsumen', 'kendati demikian, proses data mining juga tidak selalu berjalan sesuai harapan.', 'ada beberapa permasalahan yang kerap ditemui dalam data mining di perusahaan.']\n",
    "```"
   ]
  },
  {
   "cell_type": "markdown",
   "metadata": {
    "id": "2ifQ4p2BAR2Z"
   },
   "source": [
    "## Answer\n",
    "\n",
    "---\n",
    "- Provide the code for solving the problem\n",
    "- **Make sure your function follows the `Detail Function`**"
   ]
  },
  {
   "cell_type": "code",
   "execution_count": 5,
   "metadata": {
    "id": "QqG_g8VWAR2a"
   },
   "outputs": [
    {
     "name": "stdout",
     "output_type": "stream",
     "text": [
      "Bag of Words:\n",
      "['?', 'aplikasi', 'aplikasinya', 'baik.', 'berjalan', 'bisa', 'bos', 'butuh', 'cepat', 'dari', 'dengan', 'installasinya', 'kenapa', 'kurang', 'lama', 'loading', 'pembayaran', 'perbaiki', 'proses', 'senang', 'suka', 'suka.', 'terlalu', 'tidak', 'top', 'up', 'waktu', 'yang']\n",
      "\n",
      "Word to Index:\n",
      "{'?': 0, 'aplikasi': 1, 'aplikasinya': 2, 'baik.': 3, 'berjalan': 4, 'bisa': 5, 'bos': 6, 'butuh': 7, 'cepat': 8, 'dari': 9, 'dengan': 10, 'installasinya': 11, 'kenapa': 12, 'kurang': 13, 'lama': 14, 'loading': 15, 'pembayaran': 16, 'perbaiki': 17, 'proses': 18, 'senang': 19, 'suka': 20, 'suka.': 21, 'terlalu': 22, 'tidak': 23, 'top': 24, 'up': 25, 'waktu': 26, 'yang': 27}\n",
      "\n",
      "Transformed reviews:\n",
      "[[2, 4, 10, 3, 19], [13, 21, 26, 15, 16, 22, 14], [7, 17, 15, 9, 1, 27, 22, 14], [8, 18, 11], [12, 23, 5, 24, 25, 6, 0], [20, 20, 20]]\n",
      "\n",
      "Inverse transformed reviews:\n",
      "['aplikasinya berjalan dengan baik. senang', 'kurang suka. waktu loading pembayaran terlalu lama', 'butuh perbaiki loading dari aplikasi yang terlalu lama', 'cepat proses installasinya', 'kenapa tidak bisa top up bos ?', 'suka suka suka']\n",
      "\n",
      "---------------------------------------------------------------------------------\n",
      "Bag of Words:\n",
      "['ada', 'adalah', 'antaranya', 'bagi', 'banyak', 'beberapa', 'berbagai', 'berbasis', 'berharga', 'berikut', 'berjalan', 'bisnis.', 'budaya', 'dalam', 'dan', 'data', 'demikian,', 'dengan', 'dewasa', 'di', 'digunakan', 'ditemui', 'faktual', 'harapan.', 'hubungan', 'industri', 'industri,', 'industri.', 'informasi', 'ini,', 'juga', 'kendati', 'keputusan', 'kerap', 'kian', 'konsumen', 'konsumen,', 'lagi.', 'mampu', 'masih', 'membuat', 'mencegah', 'mendeteksi', 'mengenai', 'menggali', 'mengidentifikasi', 'menguat,', 'mengumpulkan', 'meningkatkan', 'merespon', 'mining', 'mining,', 'nyaris', 'penipuan', 'peran', 'perilaku', 'permasalahan', 'perubahan', 'perusahaan', 'perusahaan.', 'proses', 'reliabel', 'risiko', 'seiring', 'selalu', 'semakin', 'sesuai', 'sudah', 'tidak', 'tren', 'vital', 'yang']\n",
      "\n",
      "Word to Index:\n",
      "{'ada': 0, 'adalah': 1, 'antaranya': 2, 'bagi': 3, 'banyak': 4, 'beberapa': 5, 'berbagai': 6, 'berbasis': 7, 'berharga': 8, 'berikut': 9, 'berjalan': 10, 'bisnis.': 11, 'budaya': 12, 'dalam': 13, 'dan': 14, 'data': 15, 'demikian,': 16, 'dengan': 17, 'dewasa': 18, 'di': 19, 'digunakan': 20, 'ditemui': 21, 'faktual': 22, 'harapan.': 23, 'hubungan': 24, 'industri': 25, 'industri,': 26, 'industri.': 27, 'informasi': 28, 'ini,': 29, 'juga': 30, 'kendati': 31, 'keputusan': 32, 'kerap': 33, 'kian': 34, 'konsumen': 35, 'konsumen,': 36, 'lagi.': 37, 'mampu': 38, 'masih': 39, 'membuat': 40, 'mencegah': 41, 'mendeteksi': 42, 'mengenai': 43, 'menggali': 44, 'mengidentifikasi': 45, 'menguat,': 46, 'mengumpulkan': 47, 'meningkatkan': 48, 'merespon': 49, 'mining': 50, 'mining,': 51, 'nyaris': 52, 'penipuan': 53, 'peran': 54, 'perilaku': 55, 'permasalahan': 56, 'perubahan': 57, 'perusahaan': 58, 'perusahaan.': 59, 'proses': 60, 'reliabel': 61, 'risiko': 62, 'seiring': 63, 'selalu': 64, 'semakin': 65, 'sesuai': 66, 'sudah': 67, 'tidak': 68, 'tren': 69, 'vital': 70, 'yang': 71}\n",
      "\n",
      "Transformed text:\n",
      "[[18, 29, 15, 50, 67, 20, 52, 19, 6, 27], [63, 12, 28, 7, 15, 34, 46, 54, 15, 50, 30, 65, 70, 3, 11], [17, 15, 51, 58, 38, 44, 28, 8, 43, 55, 36, 69, 26, 14, 39, 4, 37], [9, 1, 5, 19, 2], [47, 28, 71, 61, 14, 22], [42, 14, 41, 53], [45, 62], [49, 57, 69, 13, 25], [40, 32, 71, 7, 15], [48, 24, 17, 35], [31, 16, 60, 15, 50, 30, 68, 64, 10, 66, 23], [0, 5, 56, 71, 33, 21, 13, 15, 50, 19, 59]]\n",
      "\n",
      "Inverse transformed text:\n",
      "['dewasa ini, data mining sudah digunakan nyaris di berbagai industri.', 'seiring budaya informasi berbasis data kian menguat, peran data mining juga semakin vital bagi bisnis.', 'dengan data mining, perusahaan mampu menggali informasi berharga mengenai perilaku konsumen, tren industri, dan masih banyak lagi.', 'berikut adalah beberapa di antaranya', 'mengumpulkan informasi yang reliabel dan faktual', 'mendeteksi dan mencegah penipuan', 'mengidentifikasi risiko', 'merespon perubahan tren dalam industri', 'membuat keputusan yang berbasis data', 'meningkatkan hubungan dengan konsumen', 'kendati demikian, proses data mining juga tidak selalu berjalan sesuai harapan.', 'ada beberapa permasalahan yang kerap ditemui dalam data mining di perusahaan.']\n",
      "\n"
     ]
    }
   ],
   "source": [
    "# Write your code here\n",
    "# Note: You can write your input manually\n",
    "class Mapper:\n",
    "    def __init__(self):\n",
    "        self.bag_of_words = []\n",
    "        self.word_to_index = {}\n",
    "\n",
    "    def fit(self, sentence_list):\n",
    "        words_set = set()\n",
    "        for sentence in sentence_list:\n",
    "            for word in sentence[0].split():\n",
    "                words_set.add(word.lower())  # Menambahkan kata ke dalam set (case insensitive)\n",
    "\n",
    "        self.bag_of_words = sorted(list(words_set))\n",
    "        self.word_to_index = {word: index for index, word in enumerate(self.bag_of_words)}\n",
    "\n",
    "    def transform(self, sentence_list):\n",
    "        sentence_list_transformed = []\n",
    "        for sentence in sentence_list:\n",
    "            sentence_transformed = [self.word_to_index[word.lower()] for word in sentence[0].split()]\n",
    "            sentence_list_transformed.append(sentence_transformed)\n",
    "        return sentence_list_transformed\n",
    "\n",
    "    def inverse_transform(self, sentence_list_number):\n",
    "        sentence_list = []\n",
    "        for sentence_number in sentence_list_number:\n",
    "            sentence = ' '.join([self.bag_of_words[index] for index in sentence_number])\n",
    "            sentence_list.append(sentence)\n",
    "        return sentence_list\n",
    "\n",
    "# Contoh penggunaan Nomor 1\n",
    "google_reviews = [\n",
    "    ['Aplikasinya berjalan dengan baik. Senang'],\n",
    "    ['Kurang suka. Waktu loading pembayaran terlalu lama'],\n",
    "    ['Butuh perbaiki loading dari aplikasi yang terlalu lama'],\n",
    "    ['Cepat proses installasinya'],\n",
    "    ['Kenapa tidak bisa top up bos ?'],\n",
    "    ['Suka suka suka']\n",
    "]\n",
    "\n",
    "# Membuat objek Mapper\n",
    "map_obj = Mapper()\n",
    "\n",
    "# Melakukan fit pada mapper\n",
    "map_obj.fit(sentence_list=google_reviews)\n",
    "print('Bag of Words:')\n",
    "print(map_obj.bag_of_words)\n",
    "print('')\n",
    "print('Word to Index:')\n",
    "print(map_obj.word_to_index)\n",
    "print('')\n",
    "\n",
    "# Melakukan transform pada review\n",
    "reviews_transformed = map_obj.transform(sentence_list=google_reviews)\n",
    "print('Transformed reviews:')\n",
    "print(reviews_transformed)\n",
    "print('')\n",
    "\n",
    "# Melakukan inverse transform pada review yang sudah di-transform\n",
    "reviews_inv_transformed = map_obj.inverse_transform(sentence_list_number=reviews_transformed)\n",
    "print('Inverse transformed reviews:')\n",
    "print(reviews_inv_transformed)\n",
    "print('')\n",
    "\n",
    "print(\"---------------------------------------------------------------------------------\")\n",
    "\n",
    "#Contoh penggunaan Nomor 2\n",
    "doc_text = [\n",
    "    ['Dewasa ini, data mining sudah digunakan nyaris di berbagai industri.'],\n",
    "    ['Seiring budaya informasi berbasis data kian menguat, peran data mining juga semakin vital bagi bisnis.'],\n",
    "    ['Dengan data mining, perusahaan mampu menggali informasi berharga mengenai perilaku konsumen, tren industri, dan masih banyak lagi.'],\n",
    "    ['Berikut adalah beberapa di antaranya'],\n",
    "    ['Mengumpulkan informasi yang reliabel dan faktual'],\n",
    "    ['Mendeteksi dan mencegah penipuan'],\n",
    "    ['Mengidentifikasi risiko'],\n",
    "    ['Merespon perubahan tren dalam industri'],\n",
    "    ['Membuat keputusan yang berbasis data'],\n",
    "    ['Meningkatkan hubungan dengan konsumen'],\n",
    "    ['Kendati demikian, proses data mining juga tidak selalu berjalan sesuai harapan.'],\n",
    "    ['Ada beberapa permasalahan yang kerap ditemui dalam data mining di perusahaan.']\n",
    "]\n",
    "\n",
    "# Create a Mapper object\n",
    "map_obj = Mapper()\n",
    "\n",
    "# Fit the mapper\n",
    "map_obj.fit(sentence_list = doc_text)\n",
    "print('Bag of Words:')\n",
    "print(map_obj.bag_of_words)\n",
    "print('')\n",
    "print('Word to Index:')\n",
    "print(map_obj.word_to_index)\n",
    "print('')\n",
    "\n",
    "# Transform the reviews\n",
    "text_transformed = map_obj.transform(sentence_list = doc_text)\n",
    "print('Transformed text:')\n",
    "print(text_transformed)\n",
    "print('')\n",
    "\n",
    "\n",
    "# Inverse transform the transformed text\n",
    "text_inv_transformed = map_obj.inverse_transform(sentence_list_number = text_transformed)\n",
    "print('Inverse transformed text:')\n",
    "print(text_inv_transformed)\n",
    "print('')"
   ]
  },
  {
   "cell_type": "markdown",
   "metadata": {
    "id": "xsUAqsjvIBVH"
   },
   "source": [
    "# Task 4. Debug this code\n",
    "\n",
    "Category: Easy\n",
    "\n",
    "---"
   ]
  },
  {
   "cell_type": "markdown",
   "metadata": {
    "id": "-boMqGSZKWrn"
   },
   "source": [
    "## Task 4.1\n",
    "---\n",
    "\n",
    "Below is a code to extract email with domain `@pacmannai.com` from mailing list to a new mailing list"
   ]
  },
  {
   "cell_type": "code",
   "execution_count": null,
   "metadata": {
    "colab": {
     "base_uri": "https://localhost:8080/",
     "height": 231
    },
    "id": "XBZMVr7mKWro",
    "outputId": "d2ec4174-7809-41bd-9a2f-a1bef2a32217"
   },
   "outputs": [
    {
     "ename": "NameError",
     "evalue": "ignored",
     "output_type": "error",
     "traceback": [
      "\u001b[0;31m---------------------------------------------------------------------------\u001b[0m",
      "\u001b[0;31mNameError\u001b[0m                                 Traceback (most recent call last)",
      "\u001b[0;32m<ipython-input-2-45d2e608b12d>\u001b[0m in \u001b[0;36m<cell line: 30>\u001b[0;34m()\u001b[0m\n\u001b[1;32m     28\u001b[0m \u001b[0;34m\u001b[0m\u001b[0m\n\u001b[1;32m     29\u001b[0m \u001b[0;31m# Run the function\u001b[0m\u001b[0;34m\u001b[0m\u001b[0;34m\u001b[0m\u001b[0m\n\u001b[0;32m---> 30\u001b[0;31m \u001b[0mres\u001b[0m \u001b[0;34m=\u001b[0m \u001b[0mextract_domain\u001b[0m\u001b[0;34m(\u001b[0m\u001b[0mmail_list\u001b[0m\u001b[0;34m,\u001b[0m \u001b[0mdomain_ref\u001b[0m\u001b[0;34m)\u001b[0m\u001b[0;34m\u001b[0m\u001b[0;34m\u001b[0m\u001b[0m\n\u001b[0m\u001b[1;32m     31\u001b[0m \u001b[0mprint\u001b[0m\u001b[0;34m(\u001b[0m\u001b[0mres\u001b[0m\u001b[0;34m)\u001b[0m\u001b[0;34m\u001b[0m\u001b[0;34m\u001b[0m\u001b[0m\n",
      "\u001b[0;31mNameError\u001b[0m: name 'domain_ref' is not defined"
     ]
    }
   ],
   "source": [
    "# Debug this code\n",
    "def is_domain(email, domain_ref):\n",
    "\t'''return whether the given email has domain_ref, e.g. '@pacmannai.com' '''\n",
    "\tif email.split('@')[0] == domain_ref:\n",
    "\t\treturn True\n",
    "\telse:\n",
    "\t\treturn False\n",
    "\n",
    "def extract_domain(mail_list, domain_ref):\n",
    "\t'''return list of mail that has specific domain'''\n",
    "\tcorrect_mail_list = []\n",
    "\n",
    "\tfor mail in mail_list:\n",
    "\t\tcorrect_mail_list.append(is_domain(domain_ref, mail_list))\n",
    "\n",
    "\treturn correct_mail_list\n",
    "\n",
    "# Set the input\n",
    "mail_list = [\n",
    "\t  'abc@pacmannai.com',\n",
    "\t  'def@pacmann_ai.com',\n",
    "\t  'ghi@pacmannai.co.id',\n",
    "\t  'jkl@gmail.com',\n",
    "\t  'por@gmail.com',\n",
    "\t  'pacmannai@gmail.com',\n",
    "\t  'drive@gmail.com'\n",
    "]\n",
    "\n",
    "# Run the function\n",
    "res = extract_domain(mail_list, domain_ref)\n",
    "print(res)"
   ]
  },
  {
   "cell_type": "code",
   "execution_count": 17,
   "metadata": {},
   "outputs": [
    {
     "name": "stdout",
     "output_type": "stream",
     "text": [
      "['abc@pacmannai.com']\n"
     ]
    }
   ],
   "source": [
    "#Answer\n",
    "def is_domain(mail, domain_ref):\n",
    "    '''return whether the given email has domain_ref, e.g. '@pacmannai.com' '''\n",
    "    if mail.split('@')[1] == domain_ref:\n",
    "        return True\n",
    "    else:\n",
    "        return False\n",
    "\n",
    "def extract_domain(mail_list, domain_ref):\n",
    "    '''return list of mail that has specific domain'''\n",
    "    correct_mail_list = []\n",
    "\n",
    "    for mail in mail_list:\n",
    "        if is_domain(mail, domain_ref):\n",
    "            correct_mail_list.append(mail)\n",
    "\n",
    "    return correct_mail_list\n",
    "\n",
    "# Set the input\n",
    "mail_list = [\n",
    "    'abc@pacmannai.com',\n",
    "    'def@pacmann_ai.com',\n",
    "    'ghi@pacmannai.co.id',\n",
    "    'jkl@gmail.com',\n",
    "    'por@gmail.com',\n",
    "    'pacmannai@gmail.com',\n",
    "    'drive@gmail.com'\n",
    "]\n",
    "\n",
    "# Set the domain reference\n",
    "domain_ref = 'pacmannai.com'\n",
    "\n",
    "# Run the function\n",
    "res = extract_domain(mail_list, domain_ref)\n",
    "print(res)"
   ]
  },
  {
   "cell_type": "markdown",
   "metadata": {
    "id": "2wXfc46gMBph"
   },
   "source": [
    "## Task 4.2\n",
    "---\n",
    "\n",
    "Below is a code to calculate a negative log-likelihood (NLL) from given actual value ($y_{i}$) & predicted probability ($P_{i}$)\n",
    "\n",
    "$$\n",
    "\\text{NLL} =\n",
    "-\\cfrac{1}{N}\n",
    "\\sum_{i=1}^{N}\n",
    "\\left(\n",
    "    y_{i} \\log (P_{i})\n",
    "    +\n",
    "    (1 - y_{i}) \\log (1 - P_{i})\n",
    "\\right)\n",
    "$$"
   ]
  },
  {
   "cell_type": "code",
   "execution_count": null,
   "metadata": {
    "colab": {
     "base_uri": "https://localhost:8080/",
     "height": 142
    },
    "id": "9NS3UtvJMBpi",
    "outputId": "064ee046-cc5b-4b90-8a9e-384503adbd4c"
   },
   "outputs": [
    {
     "ename": "IndentationError",
     "evalue": "ignored",
     "output_type": "error",
     "traceback": [
      "\u001b[0;36m  File \u001b[0;32m\"<tokenize>\"\u001b[0;36m, line \u001b[0;32m7\u001b[0m\n\u001b[0;31m    nll = -(1/N) * (actual * math.log(predicted_proba) + (1-actual) * (1 - math.log(predicted_proba)))\u001b[0m\n\u001b[0m    ^\u001b[0m\n\u001b[0;31mIndentationError\u001b[0m\u001b[0;31m:\u001b[0m unindent does not match any outer indentation level\n"
     ]
    }
   ],
   "source": [
    "# Debug this code\n",
    "import math\n",
    "\n",
    "def nll(actual, predicted_proba):\n",
    "\t'''return the negative loglikelihood. Return NLL (float)'''\n",
    "\tN = len(actual)\n",
    "    nll = -(1/N) * (actual * math.log(predicted_proba) + (1-actual) * (1 - math.log(predicted_proba)))\n",
    "\treturn nll\n",
    "\n",
    "\n",
    "# Input\n",
    "actual = [1, 0, 0, 1, 1]\n",
    "predicted_proba = [0.9, 0.1, 0.05, 0.8, 0.7]\n",
    "\n",
    "res = nll(actual, predicted_proba)\n",
    "print(res)\n",
    "# Should be 0.16836656419122908"
   ]
  },
  {
   "cell_type": "code",
   "execution_count": 19,
   "metadata": {},
   "outputs": [
    {
     "name": "stdout",
     "output_type": "stream",
     "text": [
      "0.16836656419122908\n"
     ]
    }
   ],
   "source": [
    "#Answer\n",
    "import math\n",
    "\n",
    "def nll(actual, predicted_proba):\n",
    "    \"\"\"Return the negative log-likelihood.\n",
    "\n",
    "    Args:\n",
    "        actual: A list of actual values (0 or 1).\n",
    "        predicted_proba: A list of predicted probabilities.\n",
    "\n",
    "    Returns:\n",
    "        The negative log-likelihood (float).\n",
    "    \"\"\"\n",
    "\n",
    "    N = len(actual)\n",
    "    nll = -(1/N) * sum(a * math.log(p) + (1-a) * math.log(1-p) for a, p in zip(actual, predicted_proba))\n",
    "    return nll\n",
    "\n",
    "\n",
    "# Input\n",
    "actual = [1, 0, 0, 1, 1]\n",
    "predicted_proba = [0.9, 0.1, 0.05, 0.8, 0.7]\n",
    "\n",
    "res = nll(actual, predicted_proba)\n",
    "print(res)  # Output: 0.16836656419122908"
   ]
  },
  {
   "cell_type": "markdown",
   "metadata": {
    "id": "zBwsNOpKirCd"
   },
   "source": [
    "# Task 5. Data Validation - 1\n",
    "\n",
    "Category: Medium\n",
    "\n",
    "---"
   ]
  },
  {
   "cell_type": "markdown",
   "metadata": {
    "id": "pfj7U8KG2sgu"
   },
   "source": [
    "## Detail Function\n",
    "---\n",
    "- Create a function named `is_matrix_equal` to check whether two matrices are almost equal withing specific tolerance.\n",
    "\n",
    "- The input are\n",
    "  - `mat_1`, the first matrix, `list`, should be 2D\n",
    "  - `mat_2`, the second matrix, `list`, should be 2D\n",
    "  - `tol`, the specified tolerance.\n",
    "\n",
    "- The output are\n",
    "  - `status`, `True` if the two matrix are equal, else `False`\n",
    "  - Two matrices are equal in size when the number of rows & columns are similar.\n",
    "  - Two matrices are equal in value if the **absolute difference** of each element is lower than the given tolerance, `tol`.\n",
    "\n",
    "- Before checking the matrices, you should create a data defense (validation) that raise error to the user such as:\n",
    "  - `TypeError('<mat_xx> type error. Should be list')` if `mat_1` or/and `mat_2` is not `list`\n",
    "  - `TypeError('<mat_xx> should be 2D list')` if `mat_1` or/and `mat_2` is not a 2D list\n",
    "  - `ValueError('Mismatch number of rows')` or `ValueError('Mismatch number of columns')` if `mat_1` and `mat_2` is not have similar size."
   ]
  },
  {
   "cell_type": "markdown",
   "metadata": {
    "id": "RG2Q-hHDnDzk"
   },
   "source": [
    "## Examples\n",
    "---"
   ]
  },
  {
   "cell_type": "markdown",
   "metadata": {
    "id": "dtc5RbOinDzk"
   },
   "source": [
    "**Input 1**\n",
    "\n",
    "```python\n",
    "mat_1 = [\n",
    "    [1, 2, 3],\n",
    "    [4, 5, 6]\n",
    "]\n",
    "mat_2 = None\n",
    "\n",
    "res = is_matrix_equal(mat_1, mat_2, tol=0.01)\n",
    "print(res)\n",
    "```\n",
    "\n",
    "**Output 1**\n",
    "```\n",
    "TypeError: mat_2 type error. Should be list\n",
    "```"
   ]
  },
  {
   "cell_type": "markdown",
   "metadata": {
    "id": "gbHY8FagnDzl"
   },
   "source": [
    "---\n",
    "**Input 2**\n",
    "\n",
    "```python\n",
    "mat_1 = None\n",
    "mat_2 = None\n",
    "\n",
    "res = is_matrix_equal(mat_1, mat_2, tol=0.01)\n",
    "print(res)\n",
    "```\n",
    "\n",
    "**Output 2**\n",
    "```\n",
    "TypeError: mat_1 type error. Should be list\n",
    "```"
   ]
  },
  {
   "cell_type": "markdown",
   "metadata": {
    "id": "hb12B-KEYGon"
   },
   "source": [
    "---\n",
    "**Input 3**\n",
    "\n",
    "```python\n",
    "mat_1 = 3\n",
    "mat_2 = 4\n",
    "\n",
    "res = is_matrix_equal(mat_1, mat_2, tol=0.01)\n",
    "print(res)\n",
    "```\n",
    "\n",
    "**Output 3**\n",
    "```\n",
    "TypeError: mat_1 type error. Should be list\n",
    "```"
   ]
  },
  {
   "cell_type": "markdown",
   "metadata": {
    "id": "eloGEUUiYQVH"
   },
   "source": [
    "---\n",
    "**Input 4**\n",
    "\n",
    "```python\n",
    "mat_1 = [[4, 3]]\n",
    "mat_2 = [[4, 3],\n",
    "         [1, 2]]\n",
    "\n",
    "res = is_matrix_equal(mat_1, mat_2, tol=0.01)\n",
    "print(res)\n",
    "```\n",
    "\n",
    "**Output 4**\n",
    "```\n",
    "ValueError: Mismatch number of rows\n",
    "```"
   ]
  },
  {
   "cell_type": "markdown",
   "metadata": {
    "id": "M_YKr0I7Yhlq"
   },
   "source": [
    "---\n",
    "**Input 5**\n",
    "\n",
    "```python\n",
    "mat_1 = [[4, 3],\n",
    "         [1, 2]]\n",
    "mat_2 = [[4, 3],\n",
    "         [1, 2]]\n",
    "\n",
    "res = is_matrix_equal(mat_1, mat_2, tol=0.01)\n",
    "print(res)\n",
    "```\n",
    "\n",
    "**Output 5**\n",
    "```\n",
    "True\n",
    "```"
   ]
  },
  {
   "cell_type": "markdown",
   "metadata": {
    "id": "L3nhXbzpYnHh"
   },
   "source": [
    "---\n",
    "**Input 6**\n",
    "\n",
    "```python\n",
    "mat_1 = [[4.000, 3.005],\n",
    "         [1.000, 2.000]]\n",
    "mat_2 = [[4.001, 3.000],\n",
    "         [1.001, 1.995]]\n",
    "\n",
    "res = is_matrix_equal(mat_1, mat_2, tol=0.01)\n",
    "print(res)\n",
    "```\n",
    "\n",
    "**Output 6**\n",
    "```\n",
    "True\n",
    "```"
   ]
  },
  {
   "cell_type": "markdown",
   "metadata": {
    "id": "kUguXtYhZJNo"
   },
   "source": [
    "---\n",
    "**Input 7**\n",
    "\n",
    "```python\n",
    "mat_1 = [[4.00, 3.05],\n",
    "         [1.00, 2.00]]\n",
    "mat_2 = [[4.01, 3.00],\n",
    "         [1.01, 1.95]]\n",
    "\n",
    "res = is_matrix_equal(mat_1, mat_2, tol=0.05)\n",
    "print(res)\n",
    "```\n",
    "\n",
    "**Output 7**\n",
    "```\n",
    "False\n",
    "```"
   ]
  },
  {
   "cell_type": "markdown",
   "metadata": {
    "id": "2RDu3odG2jHu"
   },
   "source": [
    "---\n",
    "**Input 8**\n",
    "```python\n",
    "mat_1 = [[4.00, '3.05'],\n",
    "         [1.00, 2.00]]\n",
    "mat_2 = [[4.01, 3.00],\n",
    "         [1.01, 1.95]]\n",
    "\n",
    "res = is_matrix_equal(mat_1, mat_2, tol=0.05)\n",
    "print(res)\n",
    "```\n",
    "\n",
    "**Output 8**\n",
    "```\n",
    "ValueError: Element of matrix mat_1 is not number\n",
    "```"
   ]
  },
  {
   "cell_type": "markdown",
   "metadata": {
    "id": "8N_F1Qv2nDzp"
   },
   "source": [
    "## Answer\n",
    "\n",
    "---\n",
    "- Provide the code for solving the problem\n",
    "- **Make sure your function follows the `Detail Function`**"
   ]
  },
  {
   "cell_type": "code",
   "execution_count": 27,
   "metadata": {
    "id": "PbnWoi3vnDzp"
   },
   "outputs": [
    {
     "name": "stdout",
     "output_type": "stream",
     "text": [
      "False\n"
     ]
    }
   ],
   "source": [
    "# Write your code here\n",
    "# Note: You can write your input manually\n",
    "def is_matrix_equal(mat_1, mat_2, tol=0.01):\n",
    "    # Data validation\n",
    "    if not isinstance(mat_1, list):\n",
    "        raise TypeError('mat_1 type error. Should be list')\n",
    "    if not isinstance(mat_2, list):\n",
    "        raise TypeError('mat_2 type error. Should be list')\n",
    "\n",
    "    if not all(isinstance(row, list) for row in mat_1):\n",
    "        raise TypeError('mat_1 should be 2D list')\n",
    "    if not all(isinstance(row, list) for row in mat_2):\n",
    "        raise TypeError('mat_2 should be 2D list')\n",
    "\n",
    "    if len(mat_1) != len(mat_2):\n",
    "        raise ValueError('Mismatch number of rows')\n",
    "    if any(len(row) != len(mat_2[0]) for row in mat_1):\n",
    "        raise ValueError('Mismatch number of columns')\n",
    "\n",
    "    # Check matrix equality\n",
    "    for i in range(len(mat_1)):\n",
    "        for j in range(len(mat_1[0])):\n",
    "            if not isinstance(mat_1[i][j], (int, float)):\n",
    "                raise ValueError(f'Element of matrix mat_1 is not a number')\n",
    "\n",
    "            if not isinstance(mat_2[i][j], (int, float)):\n",
    "                raise ValueError(f'Element of matrix mat_2 is not a number')\n",
    "\n",
    "            if abs(mat_1[i][j] - mat_2[i][j]) > tol:\n",
    "                return False\n",
    "\n",
    "    return True\n",
    "\n",
    "# Contoh penggunaan\n",
    "\n",
    "#1\n",
    "mat_1 = [\n",
    "    [4.00, 3.05],\n",
    "    [1.00, 2.00]\n",
    "]\n",
    "\n",
    "mat_2 = [\n",
    "    [4.01, 3.00],\n",
    "    [1.01, 1.95]\n",
    "]\n",
    "\n",
    "res = is_matrix_equal(mat_1, mat_2, tol=0.05)\n",
    "print(res)"
   ]
  },
  {
   "cell_type": "code",
   "execution_count": 28,
   "metadata": {},
   "outputs": [
    {
     "ename": "TypeError",
     "evalue": "mat_1 type error. Should be list",
     "output_type": "error",
     "traceback": [
      "\u001b[1;31m---------------------------------------------------------------------------\u001b[0m",
      "\u001b[1;31mTypeError\u001b[0m                                 Traceback (most recent call last)",
      "Cell \u001b[1;32mIn[28], line 5\u001b[0m\n\u001b[0;32m      2\u001b[0m mat_1 \u001b[38;5;241m=\u001b[39m \u001b[38;5;28;01mNone\u001b[39;00m\n\u001b[0;32m      3\u001b[0m mat_2 \u001b[38;5;241m=\u001b[39m \u001b[38;5;28;01mNone\u001b[39;00m\n\u001b[1;32m----> 5\u001b[0m res \u001b[38;5;241m=\u001b[39m \u001b[43mis_matrix_equal\u001b[49m\u001b[43m(\u001b[49m\u001b[43mmat_1\u001b[49m\u001b[43m,\u001b[49m\u001b[43m \u001b[49m\u001b[43mmat_2\u001b[49m\u001b[43m,\u001b[49m\u001b[43m \u001b[49m\u001b[43mtol\u001b[49m\u001b[38;5;241;43m=\u001b[39;49m\u001b[38;5;241;43m0.01\u001b[39;49m\u001b[43m)\u001b[49m\n\u001b[0;32m      6\u001b[0m \u001b[38;5;28mprint\u001b[39m(res)\n",
      "Cell \u001b[1;32mIn[27], line 6\u001b[0m, in \u001b[0;36mis_matrix_equal\u001b[1;34m(mat_1, mat_2, tol)\u001b[0m\n\u001b[0;32m      3\u001b[0m \u001b[38;5;28;01mdef\u001b[39;00m \u001b[38;5;21mis_matrix_equal\u001b[39m(mat_1, mat_2, tol\u001b[38;5;241m=\u001b[39m\u001b[38;5;241m0.01\u001b[39m):\n\u001b[0;32m      4\u001b[0m     \u001b[38;5;66;03m# Data validation\u001b[39;00m\n\u001b[0;32m      5\u001b[0m     \u001b[38;5;28;01mif\u001b[39;00m \u001b[38;5;129;01mnot\u001b[39;00m \u001b[38;5;28misinstance\u001b[39m(mat_1, \u001b[38;5;28mlist\u001b[39m):\n\u001b[1;32m----> 6\u001b[0m         \u001b[38;5;28;01mraise\u001b[39;00m \u001b[38;5;167;01mTypeError\u001b[39;00m(\u001b[38;5;124m'\u001b[39m\u001b[38;5;124mmat_1 type error. Should be list\u001b[39m\u001b[38;5;124m'\u001b[39m)\n\u001b[0;32m      7\u001b[0m     \u001b[38;5;28;01mif\u001b[39;00m \u001b[38;5;129;01mnot\u001b[39;00m \u001b[38;5;28misinstance\u001b[39m(mat_2, \u001b[38;5;28mlist\u001b[39m):\n\u001b[0;32m      8\u001b[0m         \u001b[38;5;28;01mraise\u001b[39;00m \u001b[38;5;167;01mTypeError\u001b[39;00m(\u001b[38;5;124m'\u001b[39m\u001b[38;5;124mmat_2 type error. Should be list\u001b[39m\u001b[38;5;124m'\u001b[39m)\n",
      "\u001b[1;31mTypeError\u001b[0m: mat_1 type error. Should be list"
     ]
    }
   ],
   "source": [
    "#2\n",
    "mat_1 = None\n",
    "mat_2 = None\n",
    "\n",
    "res = is_matrix_equal(mat_1, mat_2, tol=0.01)\n",
    "print(res)"
   ]
  },
  {
   "cell_type": "code",
   "execution_count": 29,
   "metadata": {},
   "outputs": [
    {
     "ename": "TypeError",
     "evalue": "mat_1 type error. Should be list",
     "output_type": "error",
     "traceback": [
      "\u001b[1;31m---------------------------------------------------------------------------\u001b[0m",
      "\u001b[1;31mTypeError\u001b[0m                                 Traceback (most recent call last)",
      "Cell \u001b[1;32mIn[29], line 5\u001b[0m\n\u001b[0;32m      2\u001b[0m mat_1 \u001b[38;5;241m=\u001b[39m \u001b[38;5;241m3\u001b[39m\n\u001b[0;32m      3\u001b[0m mat_2 \u001b[38;5;241m=\u001b[39m \u001b[38;5;241m4\u001b[39m\n\u001b[1;32m----> 5\u001b[0m res \u001b[38;5;241m=\u001b[39m \u001b[43mis_matrix_equal\u001b[49m\u001b[43m(\u001b[49m\u001b[43mmat_1\u001b[49m\u001b[43m,\u001b[49m\u001b[43m \u001b[49m\u001b[43mmat_2\u001b[49m\u001b[43m,\u001b[49m\u001b[43m \u001b[49m\u001b[43mtol\u001b[49m\u001b[38;5;241;43m=\u001b[39;49m\u001b[38;5;241;43m0.01\u001b[39;49m\u001b[43m)\u001b[49m\n\u001b[0;32m      6\u001b[0m \u001b[38;5;28mprint\u001b[39m(res)\n",
      "Cell \u001b[1;32mIn[27], line 6\u001b[0m, in \u001b[0;36mis_matrix_equal\u001b[1;34m(mat_1, mat_2, tol)\u001b[0m\n\u001b[0;32m      3\u001b[0m \u001b[38;5;28;01mdef\u001b[39;00m \u001b[38;5;21mis_matrix_equal\u001b[39m(mat_1, mat_2, tol\u001b[38;5;241m=\u001b[39m\u001b[38;5;241m0.01\u001b[39m):\n\u001b[0;32m      4\u001b[0m     \u001b[38;5;66;03m# Data validation\u001b[39;00m\n\u001b[0;32m      5\u001b[0m     \u001b[38;5;28;01mif\u001b[39;00m \u001b[38;5;129;01mnot\u001b[39;00m \u001b[38;5;28misinstance\u001b[39m(mat_1, \u001b[38;5;28mlist\u001b[39m):\n\u001b[1;32m----> 6\u001b[0m         \u001b[38;5;28;01mraise\u001b[39;00m \u001b[38;5;167;01mTypeError\u001b[39;00m(\u001b[38;5;124m'\u001b[39m\u001b[38;5;124mmat_1 type error. Should be list\u001b[39m\u001b[38;5;124m'\u001b[39m)\n\u001b[0;32m      7\u001b[0m     \u001b[38;5;28;01mif\u001b[39;00m \u001b[38;5;129;01mnot\u001b[39;00m \u001b[38;5;28misinstance\u001b[39m(mat_2, \u001b[38;5;28mlist\u001b[39m):\n\u001b[0;32m      8\u001b[0m         \u001b[38;5;28;01mraise\u001b[39;00m \u001b[38;5;167;01mTypeError\u001b[39;00m(\u001b[38;5;124m'\u001b[39m\u001b[38;5;124mmat_2 type error. Should be list\u001b[39m\u001b[38;5;124m'\u001b[39m)\n",
      "\u001b[1;31mTypeError\u001b[0m: mat_1 type error. Should be list"
     ]
    }
   ],
   "source": [
    "#3\n",
    "mat_1 = 3\n",
    "mat_2 = 4\n",
    "\n",
    "res = is_matrix_equal(mat_1, mat_2, tol=0.01)\n",
    "print(res)"
   ]
  },
  {
   "cell_type": "code",
   "execution_count": 32,
   "metadata": {},
   "outputs": [
    {
     "ename": "ValueError",
     "evalue": "Mismatch number of rows",
     "output_type": "error",
     "traceback": [
      "\u001b[1;31m---------------------------------------------------------------------------\u001b[0m",
      "\u001b[1;31mValueError\u001b[0m                                Traceback (most recent call last)",
      "Cell \u001b[1;32mIn[32], line 6\u001b[0m\n\u001b[0;32m      2\u001b[0m mat_1 \u001b[38;5;241m=\u001b[39m [[\u001b[38;5;241m4\u001b[39m, \u001b[38;5;241m3\u001b[39m]]\n\u001b[0;32m      3\u001b[0m mat_2 \u001b[38;5;241m=\u001b[39m [[\u001b[38;5;241m4\u001b[39m, \u001b[38;5;241m3\u001b[39m],\n\u001b[0;32m      4\u001b[0m          [\u001b[38;5;241m1\u001b[39m, \u001b[38;5;241m2\u001b[39m]]\n\u001b[1;32m----> 6\u001b[0m res \u001b[38;5;241m=\u001b[39m \u001b[43mis_matrix_equal\u001b[49m\u001b[43m(\u001b[49m\u001b[43mmat_1\u001b[49m\u001b[43m,\u001b[49m\u001b[43m \u001b[49m\u001b[43mmat_2\u001b[49m\u001b[43m,\u001b[49m\u001b[43m \u001b[49m\u001b[43mtol\u001b[49m\u001b[38;5;241;43m=\u001b[39;49m\u001b[38;5;241;43m0.01\u001b[39;49m\u001b[43m)\u001b[49m\n\u001b[0;32m      7\u001b[0m \u001b[38;5;28mprint\u001b[39m(res)\n",
      "Cell \u001b[1;32mIn[27], line 16\u001b[0m, in \u001b[0;36mis_matrix_equal\u001b[1;34m(mat_1, mat_2, tol)\u001b[0m\n\u001b[0;32m     13\u001b[0m     \u001b[38;5;28;01mraise\u001b[39;00m \u001b[38;5;167;01mTypeError\u001b[39;00m(\u001b[38;5;124m'\u001b[39m\u001b[38;5;124mmat_2 should be 2D list\u001b[39m\u001b[38;5;124m'\u001b[39m)\n\u001b[0;32m     15\u001b[0m \u001b[38;5;28;01mif\u001b[39;00m \u001b[38;5;28mlen\u001b[39m(mat_1) \u001b[38;5;241m!=\u001b[39m \u001b[38;5;28mlen\u001b[39m(mat_2):\n\u001b[1;32m---> 16\u001b[0m     \u001b[38;5;28;01mraise\u001b[39;00m \u001b[38;5;167;01mValueError\u001b[39;00m(\u001b[38;5;124m'\u001b[39m\u001b[38;5;124mMismatch number of rows\u001b[39m\u001b[38;5;124m'\u001b[39m)\n\u001b[0;32m     17\u001b[0m \u001b[38;5;28;01mif\u001b[39;00m \u001b[38;5;28many\u001b[39m(\u001b[38;5;28mlen\u001b[39m(row) \u001b[38;5;241m!=\u001b[39m \u001b[38;5;28mlen\u001b[39m(mat_2[\u001b[38;5;241m0\u001b[39m]) \u001b[38;5;28;01mfor\u001b[39;00m row \u001b[38;5;129;01min\u001b[39;00m mat_1):\n\u001b[0;32m     18\u001b[0m     \u001b[38;5;28;01mraise\u001b[39;00m \u001b[38;5;167;01mValueError\u001b[39;00m(\u001b[38;5;124m'\u001b[39m\u001b[38;5;124mMismatch number of columns\u001b[39m\u001b[38;5;124m'\u001b[39m)\n",
      "\u001b[1;31mValueError\u001b[0m: Mismatch number of rows"
     ]
    }
   ],
   "source": [
    "#4\n",
    "mat_1 = [[4, 3]]\n",
    "mat_2 = [[4, 3],\n",
    "         [1, 2]]\n",
    "\n",
    "res = is_matrix_equal(mat_1, mat_2, tol=0.01)\n",
    "print(res)"
   ]
  },
  {
   "cell_type": "code",
   "execution_count": 31,
   "metadata": {},
   "outputs": [
    {
     "name": "stdout",
     "output_type": "stream",
     "text": [
      "True\n"
     ]
    }
   ],
   "source": [
    "#5\n",
    "mat_1 = [[4, 3],\n",
    "         [1, 2]]\n",
    "mat_2 = [[4, 3],\n",
    "         [1, 2]]\n",
    "\n",
    "res = is_matrix_equal(mat_1, mat_2, tol=0.01)\n",
    "print(res)"
   ]
  },
  {
   "cell_type": "code",
   "execution_count": 33,
   "metadata": {},
   "outputs": [
    {
     "name": "stdout",
     "output_type": "stream",
     "text": [
      "True\n"
     ]
    }
   ],
   "source": [
    "#6\n",
    "mat_1 = [[4.000, 3.005],\n",
    "         [1.000, 2.000]]\n",
    "mat_2 = [[4.001, 3.000],\n",
    "         [1.001, 1.995]]\n",
    "\n",
    "res = is_matrix_equal(mat_1, mat_2, tol=0.01)\n",
    "print(res)"
   ]
  },
  {
   "cell_type": "code",
   "execution_count": 34,
   "metadata": {},
   "outputs": [
    {
     "name": "stdout",
     "output_type": "stream",
     "text": [
      "False\n"
     ]
    }
   ],
   "source": [
    "#7\n",
    "mat_1 = [[4.00, 3.05],\n",
    "         [1.00, 2.00]]\n",
    "mat_2 = [[4.01, 3.00],\n",
    "         [1.01, 1.95]]\n",
    "\n",
    "res = is_matrix_equal(mat_1, mat_2, tol=0.05)\n",
    "print(res)"
   ]
  },
  {
   "cell_type": "code",
   "execution_count": 35,
   "metadata": {},
   "outputs": [
    {
     "ename": "ValueError",
     "evalue": "Element of matrix mat_1 is not a number",
     "output_type": "error",
     "traceback": [
      "\u001b[1;31m---------------------------------------------------------------------------\u001b[0m",
      "\u001b[1;31mValueError\u001b[0m                                Traceback (most recent call last)",
      "Cell \u001b[1;32mIn[35], line 7\u001b[0m\n\u001b[0;32m      2\u001b[0m mat_1 \u001b[38;5;241m=\u001b[39m [[\u001b[38;5;241m4.00\u001b[39m, \u001b[38;5;124m'\u001b[39m\u001b[38;5;124m3.05\u001b[39m\u001b[38;5;124m'\u001b[39m],\n\u001b[0;32m      3\u001b[0m          [\u001b[38;5;241m1.00\u001b[39m, \u001b[38;5;241m2.00\u001b[39m]]\n\u001b[0;32m      4\u001b[0m mat_2 \u001b[38;5;241m=\u001b[39m [[\u001b[38;5;241m4.01\u001b[39m, \u001b[38;5;241m3.00\u001b[39m],\n\u001b[0;32m      5\u001b[0m          [\u001b[38;5;241m1.01\u001b[39m, \u001b[38;5;241m1.95\u001b[39m]]\n\u001b[1;32m----> 7\u001b[0m res \u001b[38;5;241m=\u001b[39m \u001b[43mis_matrix_equal\u001b[49m\u001b[43m(\u001b[49m\u001b[43mmat_1\u001b[49m\u001b[43m,\u001b[49m\u001b[43m \u001b[49m\u001b[43mmat_2\u001b[49m\u001b[43m,\u001b[49m\u001b[43m \u001b[49m\u001b[43mtol\u001b[49m\u001b[38;5;241;43m=\u001b[39;49m\u001b[38;5;241;43m0.05\u001b[39;49m\u001b[43m)\u001b[49m\n\u001b[0;32m      8\u001b[0m \u001b[38;5;28mprint\u001b[39m(res)\n",
      "Cell \u001b[1;32mIn[27], line 24\u001b[0m, in \u001b[0;36mis_matrix_equal\u001b[1;34m(mat_1, mat_2, tol)\u001b[0m\n\u001b[0;32m     22\u001b[0m \u001b[38;5;28;01mfor\u001b[39;00m j \u001b[38;5;129;01min\u001b[39;00m \u001b[38;5;28mrange\u001b[39m(\u001b[38;5;28mlen\u001b[39m(mat_1[\u001b[38;5;241m0\u001b[39m])):\n\u001b[0;32m     23\u001b[0m     \u001b[38;5;28;01mif\u001b[39;00m \u001b[38;5;129;01mnot\u001b[39;00m \u001b[38;5;28misinstance\u001b[39m(mat_1[i][j], (\u001b[38;5;28mint\u001b[39m, \u001b[38;5;28mfloat\u001b[39m)):\n\u001b[1;32m---> 24\u001b[0m         \u001b[38;5;28;01mraise\u001b[39;00m \u001b[38;5;167;01mValueError\u001b[39;00m(\u001b[38;5;124mf\u001b[39m\u001b[38;5;124m'\u001b[39m\u001b[38;5;124mElement of matrix mat_1 is not a number\u001b[39m\u001b[38;5;124m'\u001b[39m)\n\u001b[0;32m     26\u001b[0m     \u001b[38;5;28;01mif\u001b[39;00m \u001b[38;5;129;01mnot\u001b[39;00m \u001b[38;5;28misinstance\u001b[39m(mat_2[i][j], (\u001b[38;5;28mint\u001b[39m, \u001b[38;5;28mfloat\u001b[39m)):\n\u001b[0;32m     27\u001b[0m         \u001b[38;5;28;01mraise\u001b[39;00m \u001b[38;5;167;01mValueError\u001b[39;00m(\u001b[38;5;124mf\u001b[39m\u001b[38;5;124m'\u001b[39m\u001b[38;5;124mElement of matrix mat_2 is not a number\u001b[39m\u001b[38;5;124m'\u001b[39m)\n",
      "\u001b[1;31mValueError\u001b[0m: Element of matrix mat_1 is not a number"
     ]
    }
   ],
   "source": [
    "#8\n",
    "mat_1 = [[4.00, '3.05'],\n",
    "         [1.00, 2.00]]\n",
    "mat_2 = [[4.01, 3.00],\n",
    "         [1.01, 1.95]]\n",
    "\n",
    "res = is_matrix_equal(mat_1, mat_2, tol=0.05)\n",
    "print(res)"
   ]
  },
  {
   "cell_type": "markdown",
   "metadata": {
    "id": "D3nQIQPWnIu9"
   },
   "source": [
    "# Task 6. Data Validation - 2\n",
    "\n",
    "Category: Hard\n",
    "\n",
    "---"
   ]
  },
  {
   "cell_type": "markdown",
   "metadata": {
    "id": "5XEVWPiMnIu-"
   },
   "source": [
    "## Task Descriptions\n",
    "---\n",
    "- Create a function to validate the given input and return\n",
    "  - `clean_data` (list), contain the cleaned data\n",
    "  - `error_msg` (dictionary), contain data error rows & its error message\n",
    "    - example 1:\n",
    "    ```python\n",
    "    # The error is in data\n",
    "    {\n",
    "        'Mismatch input type'\n",
    "    }\n",
    "    ```\n",
    "    - example 2:\n",
    "    ```python\n",
    "    # The error is in data rows\n",
    "    {\n",
    "        1: ['Mismatch input type on col:id'],\n",
    "        5: ['Mismatch input type on col:id', 'None value in col:id', 'Negative value in col:revenue'],\n",
    "        12: ['Mismatch col:id type']\n",
    "    }\n",
    "    ```\n"
   ]
  },
  {
   "cell_type": "markdown",
   "metadata": {
    "id": "Fe2d_TwSakNs"
   },
   "source": [
    "## Task Descriptions\n",
    "---\n",
    "\n",
    "- Create a function to validate the given input and return\n",
    "  - If the data is validated, return the given data & empty list of error, e.g.\n",
    "  ```python\n",
    "    {\n",
    "        \"data\": [\n",
    "            [\n",
    "                \"id\",\n",
    "                \"sales\",\n",
    "                \"revenue\"\n",
    "            ],\n",
    "            [\n",
    "                \"ab01\",\n",
    "                2,\n",
    "                3\n",
    "            ],\n",
    "            [\n",
    "                \"de02\",\n",
    "                4,\n",
    "                5\n",
    "            ]\n",
    "        ],\n",
    "        \"error\": []\n",
    "    }\n",
    "  ```\n",
    "  - If the data is failed to validate, return `None` on data and what's the error message, e.g.\n",
    "  ```python\n",
    "    {\n",
    "        \"data\": null,\n",
    "        \"error\": [\n",
    "            {\n",
    "                \"index\": 1,\n",
    "                \"error\": [\n",
    "                    \"None value on col:revenue\"\n",
    "                ]\n",
    "            },\n",
    "            {\n",
    "                \"index\": 2,\n",
    "                \"error\": [\n",
    "                    \"Mismatch input type on col:sales. Should be a number\",\n",
    "                    \"None value on col:revenue\"\n",
    "                ]\n",
    "            }\n",
    "        ]\n",
    "    }\n",
    "  ```"
   ]
  },
  {
   "cell_type": "markdown",
   "metadata": {
    "id": "7uMd3jXBe8EI"
   },
   "source": [
    "- The data is valid if\n",
    "  - A 2D `list` type (have rows & columns).\n",
    "  - Have three columns, i.e. `'id'`, `'sales'`, `'revenue'`\n",
    "  - The first row is the columns name.\n",
    "  - The `'id'` data is a str, the `'sales'` and `'revenue'` are numbers.\n",
    "  - The data should not have `None` value.\n",
    "  - The `sales` and `revenue` should be greater or equal than 0."
   ]
  },
  {
   "cell_type": "markdown",
   "metadata": {
    "id": "lyLKi4pSnIu_"
   },
   "source": [
    "## Detail function\n",
    "---"
   ]
  },
  {
   "cell_type": "markdown",
   "metadata": {
    "id": "YAoQuv7XnIu_"
   },
   "source": [
    "- Create function named `validate_data`\n",
    "- Have 1 input called `raw_data` (list)\n",
    "- Validate the data according to the task descriptions\n",
    "- Return a validation summary (`dict`) according to the examples\n",
    "- Type of error:\n",
    "  - `Mismatch input type`; if the `raw_data` is not list\n",
    "  - `Mismatch input size. The data is not in 2D`; if the `raw_data` is not a 2D list\n",
    "  - `Mismatch number of columns`; if the `raw_data` and each row does not have 3 columns\n",
    "  - `Mismatch data columns name`; if the `raw_data` col names is not `['id', 'sales', 'revenue']`\n",
    "  - `Mismatch data columns sequence`; if the `raw_data` col names is not in the right sequence\n",
    "  - `Mismatch input type on col:<col_names>`; if the element type is not correct\n",
    "  - `None value on col:<col_names>`; if the element value is `None`\n",
    "  - `Negative value on col:<col_names>`; if the element value is less than zero"
   ]
  },
  {
   "cell_type": "markdown",
   "metadata": {
    "id": "-ViTHAI0nIu_"
   },
   "source": [
    "## Examples\n",
    "---"
   ]
  },
  {
   "cell_type": "markdown",
   "metadata": {
    "id": "V44UzZZanIvA"
   },
   "source": [
    "**Input 1**\n",
    "\n",
    "```python\n",
    "raw_data = []\n",
    "\n",
    "data_val = validate_data(raw_data)\n",
    "\n",
    "# Json Dumps\n",
    "import json\n",
    "print(json.dumps(data_val, indent=4))\n",
    "```\n",
    "\n",
    "**Output 1**\n",
    "```\n",
    "{\n",
    "    \"data\": null,\n",
    "    \"error\": \"Mismatch input size. The data is not in 2D\"\n",
    "}\n",
    "```"
   ]
  },
  {
   "cell_type": "markdown",
   "metadata": {
    "id": "bVwr2LyxnIvA"
   },
   "source": [
    "---\n",
    "**Input 2**\n",
    "\n",
    "```python\n",
    "raw_data = [['a', 'b', 'c']]\n",
    "\n",
    "data_val = validate_data(raw_data)\n",
    "\n",
    "# Json Dumps\n",
    "import json\n",
    "print(json.dumps(data_val, indent=4))\n",
    "```\n",
    "\n",
    "**Output 2**\n",
    "```\n",
    "{\n",
    "    \"data\": null,\n",
    "    \"error\": \"Mismatch data columns name\"\n",
    "}\n",
    "```"
   ]
  },
  {
   "cell_type": "markdown",
   "metadata": {
    "id": "ueLMt6D9nIvA"
   },
   "source": [
    "---\n",
    "**Input 3**\n",
    "\n",
    "```python\n",
    "raw_data = [['id', 'sales', 'revenue'],\n",
    "            [3, 2]]\n",
    "\n",
    "data_val = validate_data(raw_data)\n",
    "\n",
    "# Json Dumps\n",
    "import json\n",
    "print(json.dumps(data_val, indent=4))\n",
    "```\n",
    "\n",
    "**Output 3**\n",
    "```\n",
    "{\n",
    "    \"data\": null,\n",
    "    \"error\": \"Mismatch number of columns\"\n",
    "}\n",
    "```"
   ]
  },
  {
   "cell_type": "markdown",
   "metadata": {
    "id": "XA7x8bzzghMV"
   },
   "source": [
    "---\n",
    "**Input 4**\n",
    "\n",
    "```python\n",
    "raw_data = [['id', 'revenue', 'sales'],\n",
    "            ['as32', 3, 2],\n",
    "            ['pc43', 5, 2]]\n",
    "\n",
    "data_val = validate_data(raw_data)\n",
    "\n",
    "# Json Dumps\n",
    "import json\n",
    "print(json.dumps(data_val, indent=4))\n",
    "```\n",
    "\n",
    "**Output 4**\n",
    "```\n",
    "{\n",
    "    \"data\": null,\n",
    "    \"error\": \"Mismatch data columns sequence\"\n",
    "}\n",
    "```"
   ]
  },
  {
   "cell_type": "markdown",
   "metadata": {
    "id": "NpYqgqK5ghMt"
   },
   "source": [
    "---\n",
    "**Input 5**\n",
    "\n",
    "```python\n",
    "raw_data = [['id', 'sales', 'revenue'],\n",
    "            ['as32', 3, 2],\n",
    "            ['pc43', 5, 2]]\n",
    "\n",
    "data_val = validate_data(raw_data)\n",
    "\n",
    "# Json Dumps\n",
    "import json\n",
    "print(json.dumps(data_val, indent=4))\n",
    "```\n",
    "\n",
    "**Output 5**\n",
    "```\n",
    "{\n",
    "    \"data\": [\n",
    "        [\n",
    "            \"id\",\n",
    "            \"sales\",\n",
    "            \"revenue\"\n",
    "        ],\n",
    "        [\n",
    "            \"as32\",\n",
    "            3,\n",
    "            2\n",
    "        ],\n",
    "        [\n",
    "            \"pc43\",\n",
    "            5,\n",
    "            2\n",
    "        ]\n",
    "    ],\n",
    "    \"error\": []\n",
    "}\n",
    "```"
   ]
  },
  {
   "cell_type": "markdown",
   "metadata": {
    "id": "PPMJQ6H9ghMt"
   },
   "source": [
    "---\n",
    "**Input 6**\n",
    "\n",
    "```python\n",
    "raw_data = [['id', 'sales', 'revenue'],\n",
    "            ['as32', 3, 2],\n",
    "            ['pc43', 5, 2],\n",
    "            [None, 4, '2'],\n",
    "            ['ds32', 5, 10],\n",
    "            ['ab41', None, 's']]\n",
    "\n",
    "data_val = validate_data(raw_data)\n",
    "\n",
    "# Json Dumps\n",
    "import json\n",
    "print(json.dumps(data_val, indent=4))\n",
    "```\n",
    "\n",
    "**Output 6**\n",
    "```\n",
    "{\n",
    "    \"data\": null,\n",
    "    \"error\": [\n",
    "        {\n",
    "            \"index\": 3,\n",
    "            \"error\": [\n",
    "                \"None value on col:id\",\n",
    "                \"Mismatch input type on col:revenue. Should be a number\"\n",
    "            ]\n",
    "        },\n",
    "        {\n",
    "            \"index\": 5,\n",
    "            \"error\": [\n",
    "                \"None value on col:sales\",\n",
    "                \"Mismatch input type on col:revenue. Should be a number\"\n",
    "            ]\n",
    "        }\n",
    "    ]\n",
    "}\n",
    "```"
   ]
  },
  {
   "cell_type": "markdown",
   "metadata": {
    "id": "GKLvaQWbnIvD"
   },
   "source": [
    "## Answer\n",
    "\n",
    "---\n",
    "- Provide the code for solving the problem\n",
    "- **Make sure your function follows the `Detail Function`**"
   ]
  },
  {
   "cell_type": "code",
   "execution_count": 45,
   "metadata": {
    "id": "BP9Yt9yynIvD"
   },
   "outputs": [
    {
     "name": "stdout",
     "output_type": "stream",
     "text": [
      "{\n",
      "    \"data\": [\n",
      "        [\n",
      "            \"id\",\n",
      "            \"sales\",\n",
      "            \"revenue\"\n",
      "        ],\n",
      "        [\n",
      "            \"as32\",\n",
      "            3,\n",
      "            2\n",
      "        ],\n",
      "        [\n",
      "            \"pc43\",\n",
      "            5,\n",
      "            2\n",
      "        ],\n",
      "        [\n",
      "            null,\n",
      "            4,\n",
      "            \"2\"\n",
      "        ],\n",
      "        [\n",
      "            \"ds32\",\n",
      "            5,\n",
      "            10\n",
      "        ],\n",
      "        [\n",
      "            \"ab41\",\n",
      "            null,\n",
      "            \"s\"\n",
      "        ]\n",
      "    ],\n",
      "    \"error\": [\n",
      "        {\n",
      "            \"index\": 3,\n",
      "            \"error\": [\n",
      "                \"Mismatch input type on col:id. Should be a string\",\n",
      "                \"None value on col:id\"\n",
      "            ]\n",
      "        },\n",
      "        {\n",
      "            \"index\": 5,\n",
      "            \"error\": [\n",
      "                \"Mismatch input type on col:sales. Should be a number\",\n",
      "                \"None value on col:sales\",\n",
      "                \"Mismatch input type on col:revenue. Should be a number\"\n",
      "            ]\n",
      "        }\n",
      "    ]\n",
      "}\n"
     ]
    }
   ],
   "source": [
    "# Write your code here\n",
    "# Note: You can write your input manually\n",
    "def validate_data(raw_data):\n",
    "    # Inisialisasi data hasil validasi\n",
    "    validation_result = {\n",
    "        \"data\": None,\n",
    "        \"error\": []\n",
    "    }\n",
    "\n",
    "    # Validasi tipe input\n",
    "    if not isinstance(raw_data, list):\n",
    "        validation_result[\"error\"] = \"Mismatch input type\"\n",
    "        return validation_result\n",
    "\n",
    "    # Validasi data dalam bentuk 2D list\n",
    "    if not all(isinstance(row, list) for row in raw_data):\n",
    "        validation_result[\"error\"] = \"Mismatch input size. The data is not in 2D\"\n",
    "        return validation_result\n",
    "\n",
    "    # Validasi jumlah kolom dan nama kolom\n",
    "    expected_columns = ['id', 'sales', 'revenue']\n",
    "    if len(raw_data[0]) != len(expected_columns) or raw_data[0] != expected_columns:\n",
    "        if len(raw_data[0]) != len(expected_columns):\n",
    "            validation_result[\"error\"].append(\"Mismatch number of columns\")\n",
    "        if raw_data[0] != expected_columns:\n",
    "            validation_result[\"error\"].append(\"Mismatch data columns name\")\n",
    "        return validation_result\n",
    "\n",
    "    # Validasi urutan kolom\n",
    "    if raw_data[0] != expected_columns:\n",
    "        validation_result[\"error\"].append(\"Mismatch data columns sequence\")\n",
    "        return validation_result\n",
    "\n",
    "    # Validasi nilai setiap elemen\n",
    "    for i in range(1, len(raw_data)):\n",
    "        error_messages = []\n",
    "        for j in range(len(raw_data[i])):\n",
    "            col_name = expected_columns[j]\n",
    "            col_value = raw_data[i][j]\n",
    "\n",
    "            # Validasi tipe data\n",
    "            if j == 0 and not isinstance(col_value, str):\n",
    "                error_messages.append(f\"Mismatch input type on col:{col_name}. Should be a string\")\n",
    "            elif j in [1, 2] and not (isinstance(col_value, (int, float)) or (isinstance(col_value, str) and col_value.replace('.', '', 1).isdigit())):\n",
    "                error_messages.append(f\"Mismatch input type on col:{col_name}. Should be a number\")\n",
    "\n",
    "            # Validasi None value\n",
    "            if col_value is None:\n",
    "                error_messages.append(f\"None value on col:{col_name}\")\n",
    "\n",
    "            # Validasi nilai negatif\n",
    "            if j in [1, 2] and col_value is not None and (isinstance(col_value, (int, float)) and col_value < 0):\n",
    "                error_messages.append(f\"Negative value on col:{col_name}\")\n",
    "\n",
    "        if error_messages:\n",
    "            validation_result[\"error\"].append({\"index\": i, \"error\": error_messages})\n",
    "        else:\n",
    "            validation_result[\"data\"] = raw_data\n",
    "\n",
    "    return validation_result\n",
    "\n",
    "# Contoh penggunaan\n",
    "raw_data_6 = [['id', 'sales', 'revenue'],\n",
    "              ['as32', 3, 2],\n",
    "              ['pc43', 5, 2],\n",
    "              [None, 4, '2'],\n",
    "              ['ds32', 5, 10],\n",
    "              ['ab41', None, 's']]\n",
    "\n",
    "data_val_6 = validate_data(raw_data_6)\n",
    "\n",
    "# Json Dumps\n",
    "import json\n",
    "print(json.dumps(data_val_6, indent=4))"
   ]
  }
 ],
 "metadata": {
  "colab": {
   "collapsed_sections": [
    "xsUAqsjvIBVH",
    "EOdMk1QDDWhA",
    "0DgsGgpoDWhj",
    "DjCgn0N5DWhj",
    "utpLqcoTDWhl",
    "sMMfv8sK8jJz",
    "8hXTw4yi8jKc",
    "1Lvmi7SKAR2A",
    "2ifQ4p2BAR2Z"
   ],
   "provenance": []
  },
  "kernelspec": {
   "display_name": "Python 3 (ipykernel)",
   "language": "python",
   "name": "python3"
  },
  "language_info": {
   "codemirror_mode": {
    "name": "ipython",
    "version": 3
   },
   "file_extension": ".py",
   "mimetype": "text/x-python",
   "name": "python",
   "nbconvert_exporter": "python",
   "pygments_lexer": "ipython3",
   "version": "3.11.7"
  }
 },
 "nbformat": 4,
 "nbformat_minor": 4
}
